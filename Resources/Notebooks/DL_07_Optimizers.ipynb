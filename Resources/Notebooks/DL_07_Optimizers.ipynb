{
 "cells": [
  {
   "cell_type": "code",
   "execution_count": 1,
   "metadata": {
    "id": "auaqKUAuFRwJ"
   },
   "outputs": [],
   "source": [
    "import numpy as np\n",
    "import pandas as pd\n",
    "import matplotlib.pyplot as plt\n",
    "\n",
    "from sklearn.preprocessing import OneHotEncoder\n",
    "from sklearn.preprocessing import RobustScaler\n",
    "from sklearn.model_selection import train_test_split"
   ]
  },
  {
   "cell_type": "code",
   "execution_count": null,
   "metadata": {
    "id": "R7BOD99kHvAZ"
   },
   "outputs": [],
   "source": [
    "# Usaremos la base de datos: Beijing Multi-Site Air-Quality Data Data Set,\n",
    "# la cual puede ser obtenida desde https://archive.ics.uci.edu/ml/datasets/Beijing+Multi-Site+Air-Quality+Data\n",
    "# (revisar la página para más detalles sobre los datos)\n",
    "# Se ha proporcionado un archivo csv con la información obtenida de la estación\n",
    "# de monitoreo Aotizhongxin, el cual contiene 35,064 registros.\n",
    "\n",
    "# El objetivo es poder predecir la concetración de PM2.5 y de PM10 a partir de las\n",
    "# variables año, mes, día, hora, temperatura, presión, punto de rocío, \n",
    "# precipitación y velocidad del viento."
   ]
  },
  {
   "cell_type": "markdown",
   "metadata": {
    "id": "oN6aBWNOWrY7"
   },
   "source": [
    "# Part 1: Load data into Colab"
   ]
  },
  {
   "cell_type": "code",
   "execution_count": 2,
   "metadata": {
    "colab": {
     "base_uri": "https://localhost:8080/",
     "height": 73
    },
    "id": "kB4uTQwSFkVr",
    "outputId": "37ed0194-788b-4a70-ad14-3d7d75554ff2"
   },
   "outputs": [
    {
     "data": {
      "text/html": [
       "\n",
       "     <input type=\"file\" id=\"files-0ade7ca0-10b4-4431-8a70-ea30930743d4\" name=\"files[]\" multiple disabled\n",
       "        style=\"border:none\" />\n",
       "     <output id=\"result-0ade7ca0-10b4-4431-8a70-ea30930743d4\">\n",
       "      Upload widget is only available when the cell has been executed in the\n",
       "      current browser session. Please rerun this cell to enable.\n",
       "      </output>\n",
       "      <script>// Copyright 2017 Google LLC\n",
       "//\n",
       "// Licensed under the Apache License, Version 2.0 (the \"License\");\n",
       "// you may not use this file except in compliance with the License.\n",
       "// You may obtain a copy of the License at\n",
       "//\n",
       "//      http://www.apache.org/licenses/LICENSE-2.0\n",
       "//\n",
       "// Unless required by applicable law or agreed to in writing, software\n",
       "// distributed under the License is distributed on an \"AS IS\" BASIS,\n",
       "// WITHOUT WARRANTIES OR CONDITIONS OF ANY KIND, either express or implied.\n",
       "// See the License for the specific language governing permissions and\n",
       "// limitations under the License.\n",
       "\n",
       "/**\n",
       " * @fileoverview Helpers for google.colab Python module.\n",
       " */\n",
       "(function(scope) {\n",
       "function span(text, styleAttributes = {}) {\n",
       "  const element = document.createElement('span');\n",
       "  element.textContent = text;\n",
       "  for (const key of Object.keys(styleAttributes)) {\n",
       "    element.style[key] = styleAttributes[key];\n",
       "  }\n",
       "  return element;\n",
       "}\n",
       "\n",
       "// Max number of bytes which will be uploaded at a time.\n",
       "const MAX_PAYLOAD_SIZE = 100 * 1024;\n",
       "\n",
       "function _uploadFiles(inputId, outputId) {\n",
       "  const steps = uploadFilesStep(inputId, outputId);\n",
       "  const outputElement = document.getElementById(outputId);\n",
       "  // Cache steps on the outputElement to make it available for the next call\n",
       "  // to uploadFilesContinue from Python.\n",
       "  outputElement.steps = steps;\n",
       "\n",
       "  return _uploadFilesContinue(outputId);\n",
       "}\n",
       "\n",
       "// This is roughly an async generator (not supported in the browser yet),\n",
       "// where there are multiple asynchronous steps and the Python side is going\n",
       "// to poll for completion of each step.\n",
       "// This uses a Promise to block the python side on completion of each step,\n",
       "// then passes the result of the previous step as the input to the next step.\n",
       "function _uploadFilesContinue(outputId) {\n",
       "  const outputElement = document.getElementById(outputId);\n",
       "  const steps = outputElement.steps;\n",
       "\n",
       "  const next = steps.next(outputElement.lastPromiseValue);\n",
       "  return Promise.resolve(next.value.promise).then((value) => {\n",
       "    // Cache the last promise value to make it available to the next\n",
       "    // step of the generator.\n",
       "    outputElement.lastPromiseValue = value;\n",
       "    return next.value.response;\n",
       "  });\n",
       "}\n",
       "\n",
       "/**\n",
       " * Generator function which is called between each async step of the upload\n",
       " * process.\n",
       " * @param {string} inputId Element ID of the input file picker element.\n",
       " * @param {string} outputId Element ID of the output display.\n",
       " * @return {!Iterable<!Object>} Iterable of next steps.\n",
       " */\n",
       "function* uploadFilesStep(inputId, outputId) {\n",
       "  const inputElement = document.getElementById(inputId);\n",
       "  inputElement.disabled = false;\n",
       "\n",
       "  const outputElement = document.getElementById(outputId);\n",
       "  outputElement.innerHTML = '';\n",
       "\n",
       "  const pickedPromise = new Promise((resolve) => {\n",
       "    inputElement.addEventListener('change', (e) => {\n",
       "      resolve(e.target.files);\n",
       "    });\n",
       "  });\n",
       "\n",
       "  const cancel = document.createElement('button');\n",
       "  inputElement.parentElement.appendChild(cancel);\n",
       "  cancel.textContent = 'Cancel upload';\n",
       "  const cancelPromise = new Promise((resolve) => {\n",
       "    cancel.onclick = () => {\n",
       "      resolve(null);\n",
       "    };\n",
       "  });\n",
       "\n",
       "  // Wait for the user to pick the files.\n",
       "  const files = yield {\n",
       "    promise: Promise.race([pickedPromise, cancelPromise]),\n",
       "    response: {\n",
       "      action: 'starting',\n",
       "    }\n",
       "  };\n",
       "\n",
       "  cancel.remove();\n",
       "\n",
       "  // Disable the input element since further picks are not allowed.\n",
       "  inputElement.disabled = true;\n",
       "\n",
       "  if (!files) {\n",
       "    return {\n",
       "      response: {\n",
       "        action: 'complete',\n",
       "      }\n",
       "    };\n",
       "  }\n",
       "\n",
       "  for (const file of files) {\n",
       "    const li = document.createElement('li');\n",
       "    li.append(span(file.name, {fontWeight: 'bold'}));\n",
       "    li.append(span(\n",
       "        `(${file.type || 'n/a'}) - ${file.size} bytes, ` +\n",
       "        `last modified: ${\n",
       "            file.lastModifiedDate ? file.lastModifiedDate.toLocaleDateString() :\n",
       "                                    'n/a'} - `));\n",
       "    const percent = span('0% done');\n",
       "    li.appendChild(percent);\n",
       "\n",
       "    outputElement.appendChild(li);\n",
       "\n",
       "    const fileDataPromise = new Promise((resolve) => {\n",
       "      const reader = new FileReader();\n",
       "      reader.onload = (e) => {\n",
       "        resolve(e.target.result);\n",
       "      };\n",
       "      reader.readAsArrayBuffer(file);\n",
       "    });\n",
       "    // Wait for the data to be ready.\n",
       "    let fileData = yield {\n",
       "      promise: fileDataPromise,\n",
       "      response: {\n",
       "        action: 'continue',\n",
       "      }\n",
       "    };\n",
       "\n",
       "    // Use a chunked sending to avoid message size limits. See b/62115660.\n",
       "    let position = 0;\n",
       "    do {\n",
       "      const length = Math.min(fileData.byteLength - position, MAX_PAYLOAD_SIZE);\n",
       "      const chunk = new Uint8Array(fileData, position, length);\n",
       "      position += length;\n",
       "\n",
       "      const base64 = btoa(String.fromCharCode.apply(null, chunk));\n",
       "      yield {\n",
       "        response: {\n",
       "          action: 'append',\n",
       "          file: file.name,\n",
       "          data: base64,\n",
       "        },\n",
       "      };\n",
       "\n",
       "      let percentDone = fileData.byteLength === 0 ?\n",
       "          100 :\n",
       "          Math.round((position / fileData.byteLength) * 100);\n",
       "      percent.textContent = `${percentDone}% done`;\n",
       "\n",
       "    } while (position < fileData.byteLength);\n",
       "  }\n",
       "\n",
       "  // All done.\n",
       "  yield {\n",
       "    response: {\n",
       "      action: 'complete',\n",
       "    }\n",
       "  };\n",
       "}\n",
       "\n",
       "scope.google = scope.google || {};\n",
       "scope.google.colab = scope.google.colab || {};\n",
       "scope.google.colab._files = {\n",
       "  _uploadFiles,\n",
       "  _uploadFilesContinue,\n",
       "};\n",
       "})(self);\n",
       "</script> "
      ],
      "text/plain": [
       "<IPython.core.display.HTML object>"
      ]
     },
     "metadata": {},
     "output_type": "display_data"
    },
    {
     "name": "stdout",
     "output_type": "stream",
     "text": [
      "Saving PRSA_Aotizhongxin.csv to PRSA_Aotizhongxin.csv\n"
     ]
    }
   ],
   "source": [
    "# Requiered to select a file from your HD\n",
    "from google.colab import files\n",
    "uploaded = files.upload()"
   ]
  },
  {
   "cell_type": "code",
   "execution_count": 3,
   "metadata": {
    "colab": {
     "base_uri": "https://localhost:8080/",
     "height": 423
    },
    "id": "JwhYkkpoGG8y",
    "outputId": "fc245acf-98b2-4f79-9f81-69c1c9fd57ab"
   },
   "outputs": [
    {
     "data": {
      "text/html": [
       "\n",
       "  <div id=\"df-ac37f8ae-b715-49d9-baa5-c19f5dd1cabc\">\n",
       "    <div class=\"colab-df-container\">\n",
       "      <div>\n",
       "<style scoped>\n",
       "    .dataframe tbody tr th:only-of-type {\n",
       "        vertical-align: middle;\n",
       "    }\n",
       "\n",
       "    .dataframe tbody tr th {\n",
       "        vertical-align: top;\n",
       "    }\n",
       "\n",
       "    .dataframe thead th {\n",
       "        text-align: right;\n",
       "    }\n",
       "</style>\n",
       "<table border=\"1\" class=\"dataframe\">\n",
       "  <thead>\n",
       "    <tr style=\"text-align: right;\">\n",
       "      <th></th>\n",
       "      <th>No</th>\n",
       "      <th>year</th>\n",
       "      <th>month</th>\n",
       "      <th>day</th>\n",
       "      <th>hour</th>\n",
       "      <th>PM2.5</th>\n",
       "      <th>PM10</th>\n",
       "      <th>SO2</th>\n",
       "      <th>NO2</th>\n",
       "      <th>CO</th>\n",
       "      <th>O3</th>\n",
       "      <th>TEMP</th>\n",
       "      <th>PRES</th>\n",
       "      <th>DEWP</th>\n",
       "      <th>RAIN</th>\n",
       "      <th>wd</th>\n",
       "      <th>WSPM</th>\n",
       "      <th>station</th>\n",
       "    </tr>\n",
       "  </thead>\n",
       "  <tbody>\n",
       "    <tr>\n",
       "      <th>0</th>\n",
       "      <td>1</td>\n",
       "      <td>2013</td>\n",
       "      <td>3</td>\n",
       "      <td>1</td>\n",
       "      <td>0</td>\n",
       "      <td>4.0</td>\n",
       "      <td>4.0</td>\n",
       "      <td>4.0</td>\n",
       "      <td>7.0</td>\n",
       "      <td>300.0</td>\n",
       "      <td>77.0</td>\n",
       "      <td>-0.7</td>\n",
       "      <td>1023.0</td>\n",
       "      <td>-18.8</td>\n",
       "      <td>0.0</td>\n",
       "      <td>NNW</td>\n",
       "      <td>4.4</td>\n",
       "      <td>Aotizhongxin</td>\n",
       "    </tr>\n",
       "    <tr>\n",
       "      <th>1</th>\n",
       "      <td>2</td>\n",
       "      <td>2013</td>\n",
       "      <td>3</td>\n",
       "      <td>1</td>\n",
       "      <td>1</td>\n",
       "      <td>8.0</td>\n",
       "      <td>8.0</td>\n",
       "      <td>4.0</td>\n",
       "      <td>7.0</td>\n",
       "      <td>300.0</td>\n",
       "      <td>77.0</td>\n",
       "      <td>-1.1</td>\n",
       "      <td>1023.2</td>\n",
       "      <td>-18.2</td>\n",
       "      <td>0.0</td>\n",
       "      <td>N</td>\n",
       "      <td>4.7</td>\n",
       "      <td>Aotizhongxin</td>\n",
       "    </tr>\n",
       "    <tr>\n",
       "      <th>2</th>\n",
       "      <td>3</td>\n",
       "      <td>2013</td>\n",
       "      <td>3</td>\n",
       "      <td>1</td>\n",
       "      <td>2</td>\n",
       "      <td>7.0</td>\n",
       "      <td>7.0</td>\n",
       "      <td>5.0</td>\n",
       "      <td>10.0</td>\n",
       "      <td>300.0</td>\n",
       "      <td>73.0</td>\n",
       "      <td>-1.1</td>\n",
       "      <td>1023.5</td>\n",
       "      <td>-18.2</td>\n",
       "      <td>0.0</td>\n",
       "      <td>NNW</td>\n",
       "      <td>5.6</td>\n",
       "      <td>Aotizhongxin</td>\n",
       "    </tr>\n",
       "    <tr>\n",
       "      <th>3</th>\n",
       "      <td>4</td>\n",
       "      <td>2013</td>\n",
       "      <td>3</td>\n",
       "      <td>1</td>\n",
       "      <td>3</td>\n",
       "      <td>6.0</td>\n",
       "      <td>6.0</td>\n",
       "      <td>11.0</td>\n",
       "      <td>11.0</td>\n",
       "      <td>300.0</td>\n",
       "      <td>72.0</td>\n",
       "      <td>-1.4</td>\n",
       "      <td>1024.5</td>\n",
       "      <td>-19.4</td>\n",
       "      <td>0.0</td>\n",
       "      <td>NW</td>\n",
       "      <td>3.1</td>\n",
       "      <td>Aotizhongxin</td>\n",
       "    </tr>\n",
       "    <tr>\n",
       "      <th>4</th>\n",
       "      <td>5</td>\n",
       "      <td>2013</td>\n",
       "      <td>3</td>\n",
       "      <td>1</td>\n",
       "      <td>4</td>\n",
       "      <td>3.0</td>\n",
       "      <td>3.0</td>\n",
       "      <td>12.0</td>\n",
       "      <td>12.0</td>\n",
       "      <td>300.0</td>\n",
       "      <td>72.0</td>\n",
       "      <td>-2.0</td>\n",
       "      <td>1025.2</td>\n",
       "      <td>-19.5</td>\n",
       "      <td>0.0</td>\n",
       "      <td>N</td>\n",
       "      <td>2.0</td>\n",
       "      <td>Aotizhongxin</td>\n",
       "    </tr>\n",
       "    <tr>\n",
       "      <th>...</th>\n",
       "      <td>...</td>\n",
       "      <td>...</td>\n",
       "      <td>...</td>\n",
       "      <td>...</td>\n",
       "      <td>...</td>\n",
       "      <td>...</td>\n",
       "      <td>...</td>\n",
       "      <td>...</td>\n",
       "      <td>...</td>\n",
       "      <td>...</td>\n",
       "      <td>...</td>\n",
       "      <td>...</td>\n",
       "      <td>...</td>\n",
       "      <td>...</td>\n",
       "      <td>...</td>\n",
       "      <td>...</td>\n",
       "      <td>...</td>\n",
       "      <td>...</td>\n",
       "    </tr>\n",
       "    <tr>\n",
       "      <th>35059</th>\n",
       "      <td>35060</td>\n",
       "      <td>2017</td>\n",
       "      <td>2</td>\n",
       "      <td>28</td>\n",
       "      <td>19</td>\n",
       "      <td>12.0</td>\n",
       "      <td>29.0</td>\n",
       "      <td>5.0</td>\n",
       "      <td>35.0</td>\n",
       "      <td>400.0</td>\n",
       "      <td>95.0</td>\n",
       "      <td>12.5</td>\n",
       "      <td>1013.5</td>\n",
       "      <td>-16.2</td>\n",
       "      <td>0.0</td>\n",
       "      <td>NW</td>\n",
       "      <td>2.4</td>\n",
       "      <td>Aotizhongxin</td>\n",
       "    </tr>\n",
       "    <tr>\n",
       "      <th>35060</th>\n",
       "      <td>35061</td>\n",
       "      <td>2017</td>\n",
       "      <td>2</td>\n",
       "      <td>28</td>\n",
       "      <td>20</td>\n",
       "      <td>13.0</td>\n",
       "      <td>37.0</td>\n",
       "      <td>7.0</td>\n",
       "      <td>45.0</td>\n",
       "      <td>500.0</td>\n",
       "      <td>81.0</td>\n",
       "      <td>11.6</td>\n",
       "      <td>1013.6</td>\n",
       "      <td>-15.1</td>\n",
       "      <td>0.0</td>\n",
       "      <td>WNW</td>\n",
       "      <td>0.9</td>\n",
       "      <td>Aotizhongxin</td>\n",
       "    </tr>\n",
       "    <tr>\n",
       "      <th>35061</th>\n",
       "      <td>35062</td>\n",
       "      <td>2017</td>\n",
       "      <td>2</td>\n",
       "      <td>28</td>\n",
       "      <td>21</td>\n",
       "      <td>16.0</td>\n",
       "      <td>37.0</td>\n",
       "      <td>10.0</td>\n",
       "      <td>66.0</td>\n",
       "      <td>700.0</td>\n",
       "      <td>58.0</td>\n",
       "      <td>10.8</td>\n",
       "      <td>1014.2</td>\n",
       "      <td>-13.3</td>\n",
       "      <td>0.0</td>\n",
       "      <td>NW</td>\n",
       "      <td>1.1</td>\n",
       "      <td>Aotizhongxin</td>\n",
       "    </tr>\n",
       "    <tr>\n",
       "      <th>35062</th>\n",
       "      <td>35063</td>\n",
       "      <td>2017</td>\n",
       "      <td>2</td>\n",
       "      <td>28</td>\n",
       "      <td>22</td>\n",
       "      <td>21.0</td>\n",
       "      <td>44.0</td>\n",
       "      <td>12.0</td>\n",
       "      <td>87.0</td>\n",
       "      <td>700.0</td>\n",
       "      <td>35.0</td>\n",
       "      <td>10.5</td>\n",
       "      <td>1014.4</td>\n",
       "      <td>-12.9</td>\n",
       "      <td>0.0</td>\n",
       "      <td>NNW</td>\n",
       "      <td>1.2</td>\n",
       "      <td>Aotizhongxin</td>\n",
       "    </tr>\n",
       "    <tr>\n",
       "      <th>35063</th>\n",
       "      <td>35064</td>\n",
       "      <td>2017</td>\n",
       "      <td>2</td>\n",
       "      <td>28</td>\n",
       "      <td>23</td>\n",
       "      <td>19.0</td>\n",
       "      <td>31.0</td>\n",
       "      <td>10.0</td>\n",
       "      <td>79.0</td>\n",
       "      <td>600.0</td>\n",
       "      <td>42.0</td>\n",
       "      <td>8.6</td>\n",
       "      <td>1014.1</td>\n",
       "      <td>-15.9</td>\n",
       "      <td>0.0</td>\n",
       "      <td>NNE</td>\n",
       "      <td>1.3</td>\n",
       "      <td>Aotizhongxin</td>\n",
       "    </tr>\n",
       "  </tbody>\n",
       "</table>\n",
       "<p>31815 rows × 18 columns</p>\n",
       "</div>\n",
       "      <button class=\"colab-df-convert\" onclick=\"convertToInteractive('df-ac37f8ae-b715-49d9-baa5-c19f5dd1cabc')\"\n",
       "              title=\"Convert this dataframe to an interactive table.\"\n",
       "              style=\"display:none;\">\n",
       "        \n",
       "  <svg xmlns=\"http://www.w3.org/2000/svg\" height=\"24px\"viewBox=\"0 0 24 24\"\n",
       "       width=\"24px\">\n",
       "    <path d=\"M0 0h24v24H0V0z\" fill=\"none\"/>\n",
       "    <path d=\"M18.56 5.44l.94 2.06.94-2.06 2.06-.94-2.06-.94-.94-2.06-.94 2.06-2.06.94zm-11 1L8.5 8.5l.94-2.06 2.06-.94-2.06-.94L8.5 2.5l-.94 2.06-2.06.94zm10 10l.94 2.06.94-2.06 2.06-.94-2.06-.94-.94-2.06-.94 2.06-2.06.94z\"/><path d=\"M17.41 7.96l-1.37-1.37c-.4-.4-.92-.59-1.43-.59-.52 0-1.04.2-1.43.59L10.3 9.45l-7.72 7.72c-.78.78-.78 2.05 0 2.83L4 21.41c.39.39.9.59 1.41.59.51 0 1.02-.2 1.41-.59l7.78-7.78 2.81-2.81c.8-.78.8-2.07 0-2.86zM5.41 20L4 18.59l7.72-7.72 1.47 1.35L5.41 20z\"/>\n",
       "  </svg>\n",
       "      </button>\n",
       "      \n",
       "  <style>\n",
       "    .colab-df-container {\n",
       "      display:flex;\n",
       "      flex-wrap:wrap;\n",
       "      gap: 12px;\n",
       "    }\n",
       "\n",
       "    .colab-df-convert {\n",
       "      background-color: #E8F0FE;\n",
       "      border: none;\n",
       "      border-radius: 50%;\n",
       "      cursor: pointer;\n",
       "      display: none;\n",
       "      fill: #1967D2;\n",
       "      height: 32px;\n",
       "      padding: 0 0 0 0;\n",
       "      width: 32px;\n",
       "    }\n",
       "\n",
       "    .colab-df-convert:hover {\n",
       "      background-color: #E2EBFA;\n",
       "      box-shadow: 0px 1px 2px rgba(60, 64, 67, 0.3), 0px 1px 3px 1px rgba(60, 64, 67, 0.15);\n",
       "      fill: #174EA6;\n",
       "    }\n",
       "\n",
       "    [theme=dark] .colab-df-convert {\n",
       "      background-color: #3B4455;\n",
       "      fill: #D2E3FC;\n",
       "    }\n",
       "\n",
       "    [theme=dark] .colab-df-convert:hover {\n",
       "      background-color: #434B5C;\n",
       "      box-shadow: 0px 1px 3px 1px rgba(0, 0, 0, 0.15);\n",
       "      filter: drop-shadow(0px 1px 2px rgba(0, 0, 0, 0.3));\n",
       "      fill: #FFFFFF;\n",
       "    }\n",
       "  </style>\n",
       "\n",
       "      <script>\n",
       "        const buttonEl =\n",
       "          document.querySelector('#df-ac37f8ae-b715-49d9-baa5-c19f5dd1cabc button.colab-df-convert');\n",
       "        buttonEl.style.display =\n",
       "          google.colab.kernel.accessAllowed ? 'block' : 'none';\n",
       "\n",
       "        async function convertToInteractive(key) {\n",
       "          const element = document.querySelector('#df-ac37f8ae-b715-49d9-baa5-c19f5dd1cabc');\n",
       "          const dataTable =\n",
       "            await google.colab.kernel.invokeFunction('convertToInteractive',\n",
       "                                                     [key], {});\n",
       "          if (!dataTable) return;\n",
       "\n",
       "          const docLinkHtml = 'Like what you see? Visit the ' +\n",
       "            '<a target=\"_blank\" href=https://colab.research.google.com/notebooks/data_table.ipynb>data table notebook</a>'\n",
       "            + ' to learn more about interactive tables.';\n",
       "          element.innerHTML = '';\n",
       "          dataTable['output_type'] = 'display_data';\n",
       "          await google.colab.output.renderOutput(dataTable, element);\n",
       "          const docLink = document.createElement('div');\n",
       "          docLink.innerHTML = docLinkHtml;\n",
       "          element.appendChild(docLink);\n",
       "        }\n",
       "      </script>\n",
       "    </div>\n",
       "  </div>\n",
       "  "
      ],
      "text/plain": [
       "          No  year  month  day  hour  PM2.5  PM10   SO2   NO2     CO    O3  \\\n",
       "0          1  2013      3    1     0    4.0   4.0   4.0   7.0  300.0  77.0   \n",
       "1          2  2013      3    1     1    8.0   8.0   4.0   7.0  300.0  77.0   \n",
       "2          3  2013      3    1     2    7.0   7.0   5.0  10.0  300.0  73.0   \n",
       "3          4  2013      3    1     3    6.0   6.0  11.0  11.0  300.0  72.0   \n",
       "4          5  2013      3    1     4    3.0   3.0  12.0  12.0  300.0  72.0   \n",
       "...      ...   ...    ...  ...   ...    ...   ...   ...   ...    ...   ...   \n",
       "35059  35060  2017      2   28    19   12.0  29.0   5.0  35.0  400.0  95.0   \n",
       "35060  35061  2017      2   28    20   13.0  37.0   7.0  45.0  500.0  81.0   \n",
       "35061  35062  2017      2   28    21   16.0  37.0  10.0  66.0  700.0  58.0   \n",
       "35062  35063  2017      2   28    22   21.0  44.0  12.0  87.0  700.0  35.0   \n",
       "35063  35064  2017      2   28    23   19.0  31.0  10.0  79.0  600.0  42.0   \n",
       "\n",
       "       TEMP    PRES  DEWP  RAIN   wd  WSPM       station  \n",
       "0      -0.7  1023.0 -18.8   0.0  NNW   4.4  Aotizhongxin  \n",
       "1      -1.1  1023.2 -18.2   0.0    N   4.7  Aotizhongxin  \n",
       "2      -1.1  1023.5 -18.2   0.0  NNW   5.6  Aotizhongxin  \n",
       "3      -1.4  1024.5 -19.4   0.0   NW   3.1  Aotizhongxin  \n",
       "4      -2.0  1025.2 -19.5   0.0    N   2.0  Aotizhongxin  \n",
       "...     ...     ...   ...   ...  ...   ...           ...  \n",
       "35059  12.5  1013.5 -16.2   0.0   NW   2.4  Aotizhongxin  \n",
       "35060  11.6  1013.6 -15.1   0.0  WNW   0.9  Aotizhongxin  \n",
       "35061  10.8  1014.2 -13.3   0.0   NW   1.1  Aotizhongxin  \n",
       "35062  10.5  1014.4 -12.9   0.0  NNW   1.2  Aotizhongxin  \n",
       "35063   8.6  1014.1 -15.9   0.0  NNE   1.3  Aotizhongxin  \n",
       "\n",
       "[31815 rows x 18 columns]"
      ]
     },
     "execution_count": 3,
     "metadata": {},
     "output_type": "execute_result"
    }
   ],
   "source": [
    "# Import file and store it in a data frame\n",
    "df = pd.read_csv('PRSA_Aotizhongxin.csv') # Cambia al nombre del archivo que cargues\n",
    "df.dropna(inplace=True)\n",
    "df\n",
    "# Quedan 31,815 registros despues de eliminar NaN's"
   ]
  },
  {
   "cell_type": "markdown",
   "metadata": {
    "id": "7AnH6VY-W09n"
   },
   "source": [
    "# Part 2: Format data and split it into numpy arrays"
   ]
  },
  {
   "cell_type": "code",
   "execution_count": 4,
   "metadata": {
    "id": "OaRBLIHNdrSN"
   },
   "outputs": [],
   "source": [
    "# AUX function to put categorical data into one-hot encoding format\n",
    "def winddir_to_categorical(winddir):\n",
    "  enc = OneHotEncoder(sparse=False)\n",
    "  WD = enc.fit_transform(winddir)\n",
    "  print(\"== categories:\", enc.categories_, \"==\")\n",
    "  return WD, [item for sublist in enc.categories_ for item in sublist]"
   ]
  },
  {
   "cell_type": "code",
   "execution_count": 5,
   "metadata": {
    "colab": {
     "base_uri": "https://localhost:8080/",
     "height": 661
    },
    "id": "dFhZ5cEGSk2e",
    "outputId": "096d7965-8434-41da-f0e5-4b676d619abf"
   },
   "outputs": [
    {
     "name": "stdout",
     "output_type": "stream",
     "text": [
      "== categories: [array(['E', 'ENE', 'ESE', 'N', 'NE', 'NNE', 'NNW', 'NW', 'S', 'SE', 'SSE',\n",
      "       'SSW', 'SW', 'W', 'WNW', 'WSW'], dtype=object)] ==\n",
      "Input values X with shape (31815, 28). With values\n"
     ]
    },
    {
     "data": {
      "image/png": "[encoded data removed]",
      "text/plain": [
       "<Figure size 576x216 with 1 Axes>"
      ]
     },
     "metadata": {
      "needs_background": "light"
     },
     "output_type": "display_data"
    },
    {
     "data": {
      "text/html": [
       "\n",
       "  <div id=\"df-e15d330a-9031-47f8-95a5-cd9fd82f4a3e\">\n",
       "    <div class=\"colab-df-container\">\n",
       "      <div>\n",
       "<style scoped>\n",
       "    .dataframe tbody tr th:only-of-type {\n",
       "        vertical-align: middle;\n",
       "    }\n",
       "\n",
       "    .dataframe tbody tr th {\n",
       "        vertical-align: top;\n",
       "    }\n",
       "\n",
       "    .dataframe thead th {\n",
       "        text-align: right;\n",
       "    }\n",
       "</style>\n",
       "<table border=\"1\" class=\"dataframe\">\n",
       "  <thead>\n",
       "    <tr style=\"text-align: right;\">\n",
       "      <th></th>\n",
       "      <th>0</th>\n",
       "      <th>1</th>\n",
       "      <th>2</th>\n",
       "      <th>3</th>\n",
       "      <th>4</th>\n",
       "      <th>5</th>\n",
       "      <th>6</th>\n",
       "      <th>7</th>\n",
       "      <th>8</th>\n",
       "      <th>9</th>\n",
       "      <th>...</th>\n",
       "      <th>18</th>\n",
       "      <th>19</th>\n",
       "      <th>20</th>\n",
       "      <th>21</th>\n",
       "      <th>22</th>\n",
       "      <th>23</th>\n",
       "      <th>24</th>\n",
       "      <th>25</th>\n",
       "      <th>26</th>\n",
       "      <th>27</th>\n",
       "    </tr>\n",
       "  </thead>\n",
       "  <tbody>\n",
       "    <tr>\n",
       "      <th>count</th>\n",
       "      <td>31815.000000</td>\n",
       "      <td>31815.000000</td>\n",
       "      <td>31815.000000</td>\n",
       "      <td>31815.000000</td>\n",
       "      <td>31815.000000</td>\n",
       "      <td>31815.000000</td>\n",
       "      <td>31815.000000</td>\n",
       "      <td>31815.000000</td>\n",
       "      <td>31815.000000</td>\n",
       "      <td>31815.000000</td>\n",
       "      <td>...</td>\n",
       "      <td>31815.000000</td>\n",
       "      <td>31815.000000</td>\n",
       "      <td>31815.000000</td>\n",
       "      <td>31815.000000</td>\n",
       "      <td>31815.000000</td>\n",
       "      <td>31815.000000</td>\n",
       "      <td>31815.000000</td>\n",
       "      <td>31815.000000</td>\n",
       "      <td>31815.0000</td>\n",
       "      <td>31815.000000</td>\n",
       "    </tr>\n",
       "    <tr>\n",
       "      <th>mean</th>\n",
       "      <td>6.401886</td>\n",
       "      <td>15.578564</td>\n",
       "      <td>11.624800</td>\n",
       "      <td>17.167205</td>\n",
       "      <td>58.976332</td>\n",
       "      <td>1256.574729</td>\n",
       "      <td>56.240938</td>\n",
       "      <td>13.775611</td>\n",
       "      <td>1011.800385</td>\n",
       "      <td>3.241106</td>\n",
       "      <td>...</td>\n",
       "      <td>0.044507</td>\n",
       "      <td>0.053748</td>\n",
       "      <td>0.038158</td>\n",
       "      <td>0.039101</td>\n",
       "      <td>0.029672</td>\n",
       "      <td>0.060349</td>\n",
       "      <td>0.095772</td>\n",
       "      <td>0.033601</td>\n",
       "      <td>0.0314</td>\n",
       "      <td>0.062706</td>\n",
       "    </tr>\n",
       "    <tr>\n",
       "      <th>std</th>\n",
       "      <td>3.416847</td>\n",
       "      <td>8.794954</td>\n",
       "      <td>6.926874</td>\n",
       "      <td>22.760801</td>\n",
       "      <td>37.061384</td>\n",
       "      <td>1223.301208</td>\n",
       "      <td>57.834314</td>\n",
       "      <td>11.369035</td>\n",
       "      <td>10.338869</td>\n",
       "      <td>13.667863</td>\n",
       "      <td>...</td>\n",
       "      <td>0.206223</td>\n",
       "      <td>0.225524</td>\n",
       "      <td>0.191581</td>\n",
       "      <td>0.193838</td>\n",
       "      <td>0.169682</td>\n",
       "      <td>0.238136</td>\n",
       "      <td>0.294284</td>\n",
       "      <td>0.180201</td>\n",
       "      <td>0.1744</td>\n",
       "      <td>0.242438</td>\n",
       "    </tr>\n",
       "    <tr>\n",
       "      <th>min</th>\n",
       "      <td>1.000000</td>\n",
       "      <td>1.000000</td>\n",
       "      <td>0.000000</td>\n",
       "      <td>0.571200</td>\n",
       "      <td>2.000000</td>\n",
       "      <td>100.000000</td>\n",
       "      <td>0.214200</td>\n",
       "      <td>-16.800000</td>\n",
       "      <td>985.900000</td>\n",
       "      <td>-35.300000</td>\n",
       "      <td>...</td>\n",
       "      <td>0.000000</td>\n",
       "      <td>0.000000</td>\n",
       "      <td>0.000000</td>\n",
       "      <td>0.000000</td>\n",
       "      <td>0.000000</td>\n",
       "      <td>0.000000</td>\n",
       "      <td>0.000000</td>\n",
       "      <td>0.000000</td>\n",
       "      <td>0.0000</td>\n",
       "      <td>0.000000</td>\n",
       "    </tr>\n",
       "    <tr>\n",
       "      <th>25%</th>\n",
       "      <td>3.000000</td>\n",
       "      <td>8.000000</td>\n",
       "      <td>6.000000</td>\n",
       "      <td>3.000000</td>\n",
       "      <td>30.000000</td>\n",
       "      <td>500.000000</td>\n",
       "      <td>8.000000</td>\n",
       "      <td>3.400000</td>\n",
       "      <td>1003.300000</td>\n",
       "      <td>-8.000000</td>\n",
       "      <td>...</td>\n",
       "      <td>0.000000</td>\n",
       "      <td>0.000000</td>\n",
       "      <td>0.000000</td>\n",
       "      <td>0.000000</td>\n",
       "      <td>0.000000</td>\n",
       "      <td>0.000000</td>\n",
       "      <td>0.000000</td>\n",
       "      <td>0.000000</td>\n",
       "      <td>0.0000</td>\n",
       "      <td>0.000000</td>\n",
       "    </tr>\n",
       "    <tr>\n",
       "      <th>50%</th>\n",
       "      <td>6.000000</td>\n",
       "      <td>15.000000</td>\n",
       "      <td>12.000000</td>\n",
       "      <td>8.000000</td>\n",
       "      <td>53.000000</td>\n",
       "      <td>800.000000</td>\n",
       "      <td>42.000000</td>\n",
       "      <td>14.800000</td>\n",
       "      <td>1011.200000</td>\n",
       "      <td>4.000000</td>\n",
       "      <td>...</td>\n",
       "      <td>0.000000</td>\n",
       "      <td>0.000000</td>\n",
       "      <td>0.000000</td>\n",
       "      <td>0.000000</td>\n",
       "      <td>0.000000</td>\n",
       "      <td>0.000000</td>\n",
       "      <td>0.000000</td>\n",
       "      <td>0.000000</td>\n",
       "      <td>0.0000</td>\n",
       "      <td>0.000000</td>\n",
       "    </tr>\n",
       "    <tr>\n",
       "      <th>75%</th>\n",
       "      <td>9.000000</td>\n",
       "      <td>23.000000</td>\n",
       "      <td>18.000000</td>\n",
       "      <td>21.000000</td>\n",
       "      <td>82.000000</td>\n",
       "      <td>1500.000000</td>\n",
       "      <td>82.000000</td>\n",
       "      <td>23.400000</td>\n",
       "      <td>1020.000000</td>\n",
       "      <td>15.700000</td>\n",
       "      <td>...</td>\n",
       "      <td>0.000000</td>\n",
       "      <td>0.000000</td>\n",
       "      <td>0.000000</td>\n",
       "      <td>0.000000</td>\n",
       "      <td>0.000000</td>\n",
       "      <td>0.000000</td>\n",
       "      <td>0.000000</td>\n",
       "      <td>0.000000</td>\n",
       "      <td>0.0000</td>\n",
       "      <td>0.000000</td>\n",
       "    </tr>\n",
       "    <tr>\n",
       "      <th>max</th>\n",
       "      <td>12.000000</td>\n",
       "      <td>31.000000</td>\n",
       "      <td>23.000000</td>\n",
       "      <td>229.000000</td>\n",
       "      <td>290.000000</td>\n",
       "      <td>10000.000000</td>\n",
       "      <td>423.000000</td>\n",
       "      <td>40.500000</td>\n",
       "      <td>1042.000000</td>\n",
       "      <td>28.500000</td>\n",
       "      <td>...</td>\n",
       "      <td>1.000000</td>\n",
       "      <td>1.000000</td>\n",
       "      <td>1.000000</td>\n",
       "      <td>1.000000</td>\n",
       "      <td>1.000000</td>\n",
       "      <td>1.000000</td>\n",
       "      <td>1.000000</td>\n",
       "      <td>1.000000</td>\n",
       "      <td>1.0000</td>\n",
       "      <td>1.000000</td>\n",
       "    </tr>\n",
       "  </tbody>\n",
       "</table>\n",
       "<p>8 rows × 28 columns</p>\n",
       "</div>\n",
       "      <button class=\"colab-df-convert\" onclick=\"convertToInteractive('df-e15d330a-9031-47f8-95a5-cd9fd82f4a3e')\"\n",
       "              title=\"Convert this dataframe to an interactive table.\"\n",
       "              style=\"display:none;\">\n",
       "        \n",
       "  <svg xmlns=\"http://www.w3.org/2000/svg\" height=\"24px\"viewBox=\"0 0 24 24\"\n",
       "       width=\"24px\">\n",
       "    <path d=\"M0 0h24v24H0V0z\" fill=\"none\"/>\n",
       "    <path d=\"M18.56 5.44l.94 2.06.94-2.06 2.06-.94-2.06-.94-.94-2.06-.94 2.06-2.06.94zm-11 1L8.5 8.5l.94-2.06 2.06-.94-2.06-.94L8.5 2.5l-.94 2.06-2.06.94zm10 10l.94 2.06.94-2.06 2.06-.94-2.06-.94-.94-2.06-.94 2.06-2.06.94z\"/><path d=\"M17.41 7.96l-1.37-1.37c-.4-.4-.92-.59-1.43-.59-.52 0-1.04.2-1.43.59L10.3 9.45l-7.72 7.72c-.78.78-.78 2.05 0 2.83L4 21.41c.39.39.9.59 1.41.59.51 0 1.02-.2 1.41-.59l7.78-7.78 2.81-2.81c.8-.78.8-2.07 0-2.86zM5.41 20L4 18.59l7.72-7.72 1.47 1.35L5.41 20z\"/>\n",
       "  </svg>\n",
       "      </button>\n",
       "      \n",
       "  <style>\n",
       "    .colab-df-container {\n",
       "      display:flex;\n",
       "      flex-wrap:wrap;\n",
       "      gap: 12px;\n",
       "    }\n",
       "\n",
       "    .colab-df-convert {\n",
       "      background-color: #E8F0FE;\n",
       "      border: none;\n",
       "      border-radius: 50%;\n",
       "      cursor: pointer;\n",
       "      display: none;\n",
       "      fill: #1967D2;\n",
       "      height: 32px;\n",
       "      padding: 0 0 0 0;\n",
       "      width: 32px;\n",
       "    }\n",
       "\n",
       "    .colab-df-convert:hover {\n",
       "      background-color: #E2EBFA;\n",
       "      box-shadow: 0px 1px 2px rgba(60, 64, 67, 0.3), 0px 1px 3px 1px rgba(60, 64, 67, 0.15);\n",
       "      fill: #174EA6;\n",
       "    }\n",
       "\n",
       "    [theme=dark] .colab-df-convert {\n",
       "      background-color: #3B4455;\n",
       "      fill: #D2E3FC;\n",
       "    }\n",
       "\n",
       "    [theme=dark] .colab-df-convert:hover {\n",
       "      background-color: #434B5C;\n",
       "      box-shadow: 0px 1px 3px 1px rgba(0, 0, 0, 0.15);\n",
       "      filter: drop-shadow(0px 1px 2px rgba(0, 0, 0, 0.3));\n",
       "      fill: #FFFFFF;\n",
       "    }\n",
       "  </style>\n",
       "\n",
       "      <script>\n",
       "        const buttonEl =\n",
       "          document.querySelector('#df-e15d330a-9031-47f8-95a5-cd9fd82f4a3e button.colab-df-convert');\n",
       "        buttonEl.style.display =\n",
       "          google.colab.kernel.accessAllowed ? 'block' : 'none';\n",
       "\n",
       "        async function convertToInteractive(key) {\n",
       "          const element = document.querySelector('#df-e15d330a-9031-47f8-95a5-cd9fd82f4a3e');\n",
       "          const dataTable =\n",
       "            await google.colab.kernel.invokeFunction('convertToInteractive',\n",
       "                                                     [key], {});\n",
       "          if (!dataTable) return;\n",
       "\n",
       "          const docLinkHtml = 'Like what you see? Visit the ' +\n",
       "            '<a target=\"_blank\" href=https://colab.research.google.com/notebooks/data_table.ipynb>data table notebook</a>'\n",
       "            + ' to learn more about interactive tables.';\n",
       "          element.innerHTML = '';\n",
       "          dataTable['output_type'] = 'display_data';\n",
       "          await google.colab.output.renderOutput(dataTable, element);\n",
       "          const docLink = document.createElement('div');\n",
       "          docLink.innerHTML = docLinkHtml;\n",
       "          element.appendChild(docLink);\n",
       "        }\n",
       "      </script>\n",
       "    </div>\n",
       "  </div>\n",
       "  "
      ],
      "text/plain": [
       "                 0             1             2             3             4   \\\n",
       "count  31815.000000  31815.000000  31815.000000  31815.000000  31815.000000   \n",
       "mean       6.401886     15.578564     11.624800     17.167205     58.976332   \n",
       "std        3.416847      8.794954      6.926874     22.760801     37.061384   \n",
       "min        1.000000      1.000000      0.000000      0.571200      2.000000   \n",
       "25%        3.000000      8.000000      6.000000      3.000000     30.000000   \n",
       "50%        6.000000     15.000000     12.000000      8.000000     53.000000   \n",
       "75%        9.000000     23.000000     18.000000     21.000000     82.000000   \n",
       "max       12.000000     31.000000     23.000000    229.000000    290.000000   \n",
       "\n",
       "                 5             6             7             8             9   \\\n",
       "count  31815.000000  31815.000000  31815.000000  31815.000000  31815.000000   \n",
       "mean    1256.574729     56.240938     13.775611   1011.800385      3.241106   \n",
       "std     1223.301208     57.834314     11.369035     10.338869     13.667863   \n",
       "min      100.000000      0.214200    -16.800000    985.900000    -35.300000   \n",
       "25%      500.000000      8.000000      3.400000   1003.300000     -8.000000   \n",
       "50%      800.000000     42.000000     14.800000   1011.200000      4.000000   \n",
       "75%     1500.000000     82.000000     23.400000   1020.000000     15.700000   \n",
       "max    10000.000000    423.000000     40.500000   1042.000000     28.500000   \n",
       "\n",
       "       ...            18            19            20            21  \\\n",
       "count  ...  31815.000000  31815.000000  31815.000000  31815.000000   \n",
       "mean   ...      0.044507      0.053748      0.038158      0.039101   \n",
       "std    ...      0.206223      0.225524      0.191581      0.193838   \n",
       "min    ...      0.000000      0.000000      0.000000      0.000000   \n",
       "25%    ...      0.000000      0.000000      0.000000      0.000000   \n",
       "50%    ...      0.000000      0.000000      0.000000      0.000000   \n",
       "75%    ...      0.000000      0.000000      0.000000      0.000000   \n",
       "max    ...      1.000000      1.000000      1.000000      1.000000   \n",
       "\n",
       "                 22            23            24            25          26  \\\n",
       "count  31815.000000  31815.000000  31815.000000  31815.000000  31815.0000   \n",
       "mean       0.029672      0.060349      0.095772      0.033601      0.0314   \n",
       "std        0.169682      0.238136      0.294284      0.180201      0.1744   \n",
       "min        0.000000      0.000000      0.000000      0.000000      0.0000   \n",
       "25%        0.000000      0.000000      0.000000      0.000000      0.0000   \n",
       "50%        0.000000      0.000000      0.000000      0.000000      0.0000   \n",
       "75%        0.000000      0.000000      0.000000      0.000000      0.0000   \n",
       "max        1.000000      1.000000      1.000000      1.000000      1.0000   \n",
       "\n",
       "                 27  \n",
       "count  31815.000000  \n",
       "mean       0.062706  \n",
       "std        0.242438  \n",
       "min        0.000000  \n",
       "25%        0.000000  \n",
       "50%        0.000000  \n",
       "75%        0.000000  \n",
       "max        1.000000  \n",
       "\n",
       "[8 rows x 28 columns]"
      ]
     },
     "execution_count": 5,
     "metadata": {},
     "output_type": "execute_result"
    }
   ],
   "source": [
    "# Extract input features and convert them to a numpy array\n",
    "labels = ['month',\t'day',\t'hour', 'SO2',\t'NO2',\t'CO',\t'O3', 'TEMP', 'PRES', 'DEWP', 'RAIN', 'WSPM' ]\n",
    "X = df[labels].to_numpy()\n",
    "WD, categories = winddir_to_categorical(df[['wd']])\n",
    "X = np.concatenate((X, WD), axis=1)\n",
    "\n",
    "print(f\"Input values X with shape {X.shape}. With values\")\n",
    "\n",
    "plt.figure(figsize=(8, 3))\n",
    "plt.boxplot(X)\n",
    "plt.xticks(range(1, 29), labels + categories, rotation=90)\n",
    "plt.show()\n",
    "\n",
    "pd.DataFrame(X).describe()"
   ]
  },
  {
   "cell_type": "code",
   "execution_count": 6,
   "metadata": {
    "colab": {
     "base_uri": "https://localhost:8080/",
     "height": 515
    },
    "id": "dA2VIaEEHGwA",
    "outputId": "276e2f3e-30d8-4a94-a5e7-488fa7123fb5"
   },
   "outputs": [
    {
     "data": {
      "image/png": "[encoded data removed]",
      "text/plain": [
       "<Figure size 576x216 with 1 Axes>"
      ]
     },
     "metadata": {
      "needs_background": "light"
     },
     "output_type": "display_data"
    },
    {
     "data": {
      "text/html": [
       "\n",
       "  <div id=\"df-e2a18fcf-612a-41cd-a7bb-dfec9c6c6d40\">\n",
       "    <div class=\"colab-df-container\">\n",
       "      <div>\n",
       "<style scoped>\n",
       "    .dataframe tbody tr th:only-of-type {\n",
       "        vertical-align: middle;\n",
       "    }\n",
       "\n",
       "    .dataframe tbody tr th {\n",
       "        vertical-align: top;\n",
       "    }\n",
       "\n",
       "    .dataframe thead th {\n",
       "        text-align: right;\n",
       "    }\n",
       "</style>\n",
       "<table border=\"1\" class=\"dataframe\">\n",
       "  <thead>\n",
       "    <tr style=\"text-align: right;\">\n",
       "      <th></th>\n",
       "      <th>0</th>\n",
       "      <th>1</th>\n",
       "    </tr>\n",
       "  </thead>\n",
       "  <tbody>\n",
       "    <tr>\n",
       "      <th>count</th>\n",
       "      <td>31815.00000</td>\n",
       "      <td>31815.000000</td>\n",
       "    </tr>\n",
       "    <tr>\n",
       "      <th>mean</th>\n",
       "      <td>81.86363</td>\n",
       "      <td>109.120685</td>\n",
       "    </tr>\n",
       "    <tr>\n",
       "      <th>std</th>\n",
       "      <td>80.44949</td>\n",
       "      <td>93.718017</td>\n",
       "    </tr>\n",
       "    <tr>\n",
       "      <th>min</th>\n",
       "      <td>3.00000</td>\n",
       "      <td>2.000000</td>\n",
       "    </tr>\n",
       "    <tr>\n",
       "      <th>25%</th>\n",
       "      <td>22.00000</td>\n",
       "      <td>37.000000</td>\n",
       "    </tr>\n",
       "    <tr>\n",
       "      <th>50%</th>\n",
       "      <td>58.00000</td>\n",
       "      <td>86.000000</td>\n",
       "    </tr>\n",
       "    <tr>\n",
       "      <th>75%</th>\n",
       "      <td>114.00000</td>\n",
       "      <td>154.000000</td>\n",
       "    </tr>\n",
       "    <tr>\n",
       "      <th>max</th>\n",
       "      <td>713.00000</td>\n",
       "      <td>948.000000</td>\n",
       "    </tr>\n",
       "  </tbody>\n",
       "</table>\n",
       "</div>\n",
       "      <button class=\"colab-df-convert\" onclick=\"convertToInteractive('df-e2a18fcf-612a-41cd-a7bb-dfec9c6c6d40')\"\n",
       "              title=\"Convert this dataframe to an interactive table.\"\n",
       "              style=\"display:none;\">\n",
       "        \n",
       "  <svg xmlns=\"http://www.w3.org/2000/svg\" height=\"24px\"viewBox=\"0 0 24 24\"\n",
       "       width=\"24px\">\n",
       "    <path d=\"M0 0h24v24H0V0z\" fill=\"none\"/>\n",
       "    <path d=\"M18.56 5.44l.94 2.06.94-2.06 2.06-.94-2.06-.94-.94-2.06-.94 2.06-2.06.94zm-11 1L8.5 8.5l.94-2.06 2.06-.94-2.06-.94L8.5 2.5l-.94 2.06-2.06.94zm10 10l.94 2.06.94-2.06 2.06-.94-2.06-.94-.94-2.06-.94 2.06-2.06.94z\"/><path d=\"M17.41 7.96l-1.37-1.37c-.4-.4-.92-.59-1.43-.59-.52 0-1.04.2-1.43.59L10.3 9.45l-7.72 7.72c-.78.78-.78 2.05 0 2.83L4 21.41c.39.39.9.59 1.41.59.51 0 1.02-.2 1.41-.59l7.78-7.78 2.81-2.81c.8-.78.8-2.07 0-2.86zM5.41 20L4 18.59l7.72-7.72 1.47 1.35L5.41 20z\"/>\n",
       "  </svg>\n",
       "      </button>\n",
       "      \n",
       "  <style>\n",
       "    .colab-df-container {\n",
       "      display:flex;\n",
       "      flex-wrap:wrap;\n",
       "      gap: 12px;\n",
       "    }\n",
       "\n",
       "    .colab-df-convert {\n",
       "      background-color: #E8F0FE;\n",
       "      border: none;\n",
       "      border-radius: 50%;\n",
       "      cursor: pointer;\n",
       "      display: none;\n",
       "      fill: #1967D2;\n",
       "      height: 32px;\n",
       "      padding: 0 0 0 0;\n",
       "      width: 32px;\n",
       "    }\n",
       "\n",
       "    .colab-df-convert:hover {\n",
       "      background-color: #E2EBFA;\n",
       "      box-shadow: 0px 1px 2px rgba(60, 64, 67, 0.3), 0px 1px 3px 1px rgba(60, 64, 67, 0.15);\n",
       "      fill: #174EA6;\n",
       "    }\n",
       "\n",
       "    [theme=dark] .colab-df-convert {\n",
       "      background-color: #3B4455;\n",
       "      fill: #D2E3FC;\n",
       "    }\n",
       "\n",
       "    [theme=dark] .colab-df-convert:hover {\n",
       "      background-color: #434B5C;\n",
       "      box-shadow: 0px 1px 3px 1px rgba(0, 0, 0, 0.15);\n",
       "      filter: drop-shadow(0px 1px 2px rgba(0, 0, 0, 0.3));\n",
       "      fill: #FFFFFF;\n",
       "    }\n",
       "  </style>\n",
       "\n",
       "      <script>\n",
       "        const buttonEl =\n",
       "          document.querySelector('#df-e2a18fcf-612a-41cd-a7bb-dfec9c6c6d40 button.colab-df-convert');\n",
       "        buttonEl.style.display =\n",
       "          google.colab.kernel.accessAllowed ? 'block' : 'none';\n",
       "\n",
       "        async function convertToInteractive(key) {\n",
       "          const element = document.querySelector('#df-e2a18fcf-612a-41cd-a7bb-dfec9c6c6d40');\n",
       "          const dataTable =\n",
       "            await google.colab.kernel.invokeFunction('convertToInteractive',\n",
       "                                                     [key], {});\n",
       "          if (!dataTable) return;\n",
       "\n",
       "          const docLinkHtml = 'Like what you see? Visit the ' +\n",
       "            '<a target=\"_blank\" href=https://colab.research.google.com/notebooks/data_table.ipynb>data table notebook</a>'\n",
       "            + ' to learn more about interactive tables.';\n",
       "          element.innerHTML = '';\n",
       "          dataTable['output_type'] = 'display_data';\n",
       "          await google.colab.output.renderOutput(dataTable, element);\n",
       "          const docLink = document.createElement('div');\n",
       "          docLink.innerHTML = docLinkHtml;\n",
       "          element.appendChild(docLink);\n",
       "        }\n",
       "      </script>\n",
       "    </div>\n",
       "  </div>\n",
       "  "
      ],
      "text/plain": [
       "                 0             1\n",
       "count  31815.00000  31815.000000\n",
       "mean      81.86363    109.120685\n",
       "std       80.44949     93.718017\n",
       "min        3.00000      2.000000\n",
       "25%       22.00000     37.000000\n",
       "50%       58.00000     86.000000\n",
       "75%      114.00000    154.000000\n",
       "max      713.00000    948.000000"
      ]
     },
     "execution_count": 6,
     "metadata": {},
     "output_type": "execute_result"
    }
   ],
   "source": [
    "# Extract output features and convert them to a numpy array\n",
    "Y = df[['PM2.5', 'PM10']].to_numpy()\n",
    "\n",
    "plt.figure(figsize=(8, 3))\n",
    "plt.boxplot(Y)\n",
    "plt.xticks(range(1, 3), ['PM2.5', 'PM10'], rotation=90)\n",
    "plt.show()\n",
    "\n",
    "pd.DataFrame(Y).describe()"
   ]
  },
  {
   "cell_type": "code",
   "execution_count": 7,
   "metadata": {
    "colab": {
     "base_uri": "https://localhost:8080/"
    },
    "id": "zAKGr2d4W_OU",
    "outputId": "72845abb-749a-4836-8a71-8ba26e1d5de8"
   },
   "outputs": [
    {
     "name": "stdout",
     "output_type": "stream",
     "text": [
      "(28633, 28)\n",
      "(28633, 2)\n",
      "(3182, 28)\n",
      "(3182, 2)\n"
     ]
    }
   ],
   "source": [
    "# Split data into train+val and test sets\n",
    "x_train, x_test, y_train, y_test = train_test_split(X, Y, test_size=0.1)\n",
    "\n",
    "print(x_train.shape)\n",
    "print(y_train.shape)\n",
    "print(x_test.shape)\n",
    "print(y_test.shape)"
   ]
  },
  {
   "cell_type": "code",
   "execution_count": 8,
   "metadata": {
    "colab": {
     "base_uri": "https://localhost:8080/",
     "height": 515
    },
    "id": "d4nkvcV3MmC9",
    "outputId": "a76f3dad-adf0-4f0c-8f17-7e68ea1eb38e"
   },
   "outputs": [
    {
     "data": {
      "image/png": "[encoded data removed]",
      "text/plain": [
       "<Figure size 864x216 with 2 Axes>"
      ]
     },
     "metadata": {
      "needs_background": "light"
     },
     "output_type": "display_data"
    },
    {
     "data": {
      "text/html": [
       "\n",
       "  <div id=\"df-6b2d6bf6-6d1c-4ef7-8f84-687e6cec08e9\">\n",
       "    <div class=\"colab-df-container\">\n",
       "      <div>\n",
       "<style scoped>\n",
       "    .dataframe tbody tr th:only-of-type {\n",
       "        vertical-align: middle;\n",
       "    }\n",
       "\n",
       "    .dataframe tbody tr th {\n",
       "        vertical-align: top;\n",
       "    }\n",
       "\n",
       "    .dataframe thead th {\n",
       "        text-align: right;\n",
       "    }\n",
       "</style>\n",
       "<table border=\"1\" class=\"dataframe\">\n",
       "  <thead>\n",
       "    <tr style=\"text-align: right;\">\n",
       "      <th></th>\n",
       "      <th>0</th>\n",
       "      <th>1</th>\n",
       "    </tr>\n",
       "  </thead>\n",
       "  <tbody>\n",
       "    <tr>\n",
       "      <th>count</th>\n",
       "      <td>28633.000000</td>\n",
       "      <td>28633.000000</td>\n",
       "    </tr>\n",
       "    <tr>\n",
       "      <th>mean</th>\n",
       "      <td>0.256411</td>\n",
       "      <td>0.203564</td>\n",
       "    </tr>\n",
       "    <tr>\n",
       "      <th>std</th>\n",
       "      <td>0.870788</td>\n",
       "      <td>0.798638</td>\n",
       "    </tr>\n",
       "    <tr>\n",
       "      <th>min</th>\n",
       "      <td>-0.597826</td>\n",
       "      <td>-0.709402</td>\n",
       "    </tr>\n",
       "    <tr>\n",
       "      <th>25%</th>\n",
       "      <td>-0.391304</td>\n",
       "      <td>-0.410256</td>\n",
       "    </tr>\n",
       "    <tr>\n",
       "      <th>50%</th>\n",
       "      <td>0.000000</td>\n",
       "      <td>0.000000</td>\n",
       "    </tr>\n",
       "    <tr>\n",
       "      <th>75%</th>\n",
       "      <td>0.608696</td>\n",
       "      <td>0.589744</td>\n",
       "    </tr>\n",
       "    <tr>\n",
       "      <th>max</th>\n",
       "      <td>7.119565</td>\n",
       "      <td>7.376068</td>\n",
       "    </tr>\n",
       "  </tbody>\n",
       "</table>\n",
       "</div>\n",
       "      <button class=\"colab-df-convert\" onclick=\"convertToInteractive('df-6b2d6bf6-6d1c-4ef7-8f84-687e6cec08e9')\"\n",
       "              title=\"Convert this dataframe to an interactive table.\"\n",
       "              style=\"display:none;\">\n",
       "        \n",
       "  <svg xmlns=\"http://www.w3.org/2000/svg\" height=\"24px\"viewBox=\"0 0 24 24\"\n",
       "       width=\"24px\">\n",
       "    <path d=\"M0 0h24v24H0V0z\" fill=\"none\"/>\n",
       "    <path d=\"M18.56 5.44l.94 2.06.94-2.06 2.06-.94-2.06-.94-.94-2.06-.94 2.06-2.06.94zm-11 1L8.5 8.5l.94-2.06 2.06-.94-2.06-.94L8.5 2.5l-.94 2.06-2.06.94zm10 10l.94 2.06.94-2.06 2.06-.94-2.06-.94-.94-2.06-.94 2.06-2.06.94z\"/><path d=\"M17.41 7.96l-1.37-1.37c-.4-.4-.92-.59-1.43-.59-.52 0-1.04.2-1.43.59L10.3 9.45l-7.72 7.72c-.78.78-.78 2.05 0 2.83L4 21.41c.39.39.9.59 1.41.59.51 0 1.02-.2 1.41-.59l7.78-7.78 2.81-2.81c.8-.78.8-2.07 0-2.86zM5.41 20L4 18.59l7.72-7.72 1.47 1.35L5.41 20z\"/>\n",
       "  </svg>\n",
       "      </button>\n",
       "      \n",
       "  <style>\n",
       "    .colab-df-container {\n",
       "      display:flex;\n",
       "      flex-wrap:wrap;\n",
       "      gap: 12px;\n",
       "    }\n",
       "\n",
       "    .colab-df-convert {\n",
       "      background-color: #E8F0FE;\n",
       "      border: none;\n",
       "      border-radius: 50%;\n",
       "      cursor: pointer;\n",
       "      display: none;\n",
       "      fill: #1967D2;\n",
       "      height: 32px;\n",
       "      padding: 0 0 0 0;\n",
       "      width: 32px;\n",
       "    }\n",
       "\n",
       "    .colab-df-convert:hover {\n",
       "      background-color: #E2EBFA;\n",
       "      box-shadow: 0px 1px 2px rgba(60, 64, 67, 0.3), 0px 1px 3px 1px rgba(60, 64, 67, 0.15);\n",
       "      fill: #174EA6;\n",
       "    }\n",
       "\n",
       "    [theme=dark] .colab-df-convert {\n",
       "      background-color: #3B4455;\n",
       "      fill: #D2E3FC;\n",
       "    }\n",
       "\n",
       "    [theme=dark] .colab-df-convert:hover {\n",
       "      background-color: #434B5C;\n",
       "      box-shadow: 0px 1px 3px 1px rgba(0, 0, 0, 0.15);\n",
       "      filter: drop-shadow(0px 1px 2px rgba(0, 0, 0, 0.3));\n",
       "      fill: #FFFFFF;\n",
       "    }\n",
       "  </style>\n",
       "\n",
       "      <script>\n",
       "        const buttonEl =\n",
       "          document.querySelector('#df-6b2d6bf6-6d1c-4ef7-8f84-687e6cec08e9 button.colab-df-convert');\n",
       "        buttonEl.style.display =\n",
       "          google.colab.kernel.accessAllowed ? 'block' : 'none';\n",
       "\n",
       "        async function convertToInteractive(key) {\n",
       "          const element = document.querySelector('#df-6b2d6bf6-6d1c-4ef7-8f84-687e6cec08e9');\n",
       "          const dataTable =\n",
       "            await google.colab.kernel.invokeFunction('convertToInteractive',\n",
       "                                                     [key], {});\n",
       "          if (!dataTable) return;\n",
       "\n",
       "          const docLinkHtml = 'Like what you see? Visit the ' +\n",
       "            '<a target=\"_blank\" href=https://colab.research.google.com/notebooks/data_table.ipynb>data table notebook</a>'\n",
       "            + ' to learn more about interactive tables.';\n",
       "          element.innerHTML = '';\n",
       "          dataTable['output_type'] = 'display_data';\n",
       "          await google.colab.output.renderOutput(dataTable, element);\n",
       "          const docLink = document.createElement('div');\n",
       "          docLink.innerHTML = docLinkHtml;\n",
       "          element.appendChild(docLink);\n",
       "        }\n",
       "      </script>\n",
       "    </div>\n",
       "  </div>\n",
       "  "
      ],
      "text/plain": [
       "                  0             1\n",
       "count  28633.000000  28633.000000\n",
       "mean       0.256411      0.203564\n",
       "std        0.870788      0.798638\n",
       "min       -0.597826     -0.709402\n",
       "25%       -0.391304     -0.410256\n",
       "50%        0.000000      0.000000\n",
       "75%        0.608696      0.589744\n",
       "max        7.119565      7.376068"
      ]
     },
     "execution_count": 8,
     "metadata": {},
     "output_type": "execute_result"
    }
   ],
   "source": [
    "# Scale output variables\n",
    "scalerY = RobustScaler()\n",
    "y_train = scalerY.fit_transform(y_train)\n",
    "y_test = scalerY.transform(y_test)\n",
    "\n",
    "plt.figure(figsize=(12, 3))\n",
    "plt.subplot(1, 2, 1)\n",
    "plt.boxplot(y_train)\n",
    "plt.xticks(range(1, 3), ['PM2.5', 'PM10'], rotation=90)\n",
    "plt.subplot(1, 2, 2)\n",
    "plt.boxplot(y_test)\n",
    "plt.xticks(range(1, 3), ['PM2.5', 'PM10'], rotation=90)\n",
    "plt.show()\n",
    "\n",
    "pd.DataFrame(y_train).describe()"
   ]
  },
  {
   "cell_type": "code",
   "execution_count": 9,
   "metadata": {
    "colab": {
     "base_uri": "https://localhost:8080/",
     "height": 295
    },
    "id": "7dQRDsU4znyI",
    "outputId": "b0c52380-1dac-430a-a015-1838ef4e8c2f"
   },
   "outputs": [
    {
     "data": {
      "image/png": "[encoded data removed]",
      "text/plain": [
       "<Figure size 432x288 with 1 Axes>"
      ]
     },
     "metadata": {
      "needs_background": "light"
     },
     "output_type": "display_data"
    }
   ],
   "source": [
    "# Plot y_test\n",
    "# Esta gráfica es para ver sólo si los sets de entrenamiento y test cubren las mismas\n",
    "# áreas (¿tienen la misma distribución?). No se espera que los puntos coincidan ya que\n",
    "# son dos sets distintos.\n",
    "plt.scatter(y_train[:, 0], y_train[:, 1], c='r', s=2, label='y_train')\n",
    "plt.scatter(y_test[:, 0], y_test[:, 1], c='b', s=2, label='y_test')\n",
    "\n",
    "plt.legend()\n",
    "plt.grid(True)\n",
    "plt.xlabel('PM2.5')\n",
    "plt.ylabel('PM10')\n",
    "plt.title('Outputs')\n",
    "plt.show()"
   ]
  },
  {
   "cell_type": "markdown",
   "metadata": {
    "id": "dreChfyNYqsB"
   },
   "source": [
    "# Part 3: Create DNN models and train them"
   ]
  },
  {
   "cell_type": "code",
   "execution_count": null,
   "metadata": {
    "id": "3vaB5OGd084j"
   },
   "outputs": [],
   "source": [
    "# https://www.youtube.com/watch?v=Z9lQ1hzJFe8\n",
    "# https://www.youtube.com/watch?v=Lx16T9cl5ng\n",
    "# https://github.com/krishnaik06/Keras-Tuner/blob/main/Hidden%20Layers%20And%20Hidden%20Neurons.ipynb\n",
    "# https://www.tensorflow.org/tutorials/keras/keras_tuner\n",
    "# https://keras.io/keras_tuner/\n",
    "# https://keras.io/guides/keras_tuner/getting_started/\n",
    "# https://blog.tensorflow.org/2020/01/hyperparameter-tuning-with-keras-tuner.html?_gl=1*1kyglir*_ga*NDE3NTA3MzMzLjE2Njg1MzgxMDc.*_ga_W0YLR4190T*MTY3NDQ5MjM3OC42LjEuMTY3NDQ5MjY3MC4wLjAuMA..\n",
    "# https://www.tensorflow.org/tensorboard/hyperparameter_tuning_with_hparams\n",
    "# https://medium.com/swlh/hyperparameter-tuning-in-keras-tensorflow-2-with-keras-tuner-randomsearch-hyperband-3e212647778f"
   ]
  },
  {
   "cell_type": "code",
   "execution_count": 10,
   "metadata": {
    "colab": {
     "base_uri": "https://localhost:8080/"
    },
    "id": "yOqB71xRhfpA",
    "outputId": "5680b93b-7731-44ec-aa25-e5c4d705f787"
   },
   "outputs": [
    {
     "name": "stdout",
     "output_type": "stream",
     "text": [
      "\u001b[2K     \u001b[90m━━━━━━━━━━━━━━━━━━━━━━━━━━━━━━━━━━━━━━━\u001b[0m \u001b[32m135.7/135.7 KB\u001b[0m \u001b[31m8.9 MB/s\u001b[0m eta \u001b[36m0:00:00\u001b[0m\n",
      "\u001b[2K     \u001b[90m━━━━━━━━━━━━━━━━━━━━━━━━━━━━━━━━━━━━━━━━\u001b[0m \u001b[32m1.6/1.6 MB\u001b[0m \u001b[31m31.6 MB/s\u001b[0m eta \u001b[36m0:00:00\u001b[0m\n",
      "\u001b[?25h"
     ]
    }
   ],
   "source": [
    "!pip install -q -U keras-tuner"
   ]
  },
  {
   "cell_type": "code",
   "execution_count": 11,
   "metadata": {
    "id": "JO90QIV_HZyX"
   },
   "outputs": [],
   "source": [
    "# tensorflow imports\n",
    "import tensorflow as tf\n",
    "from tensorflow.keras.models import Sequential\n",
    "from tensorflow.keras.layers import InputLayer, Dense\n",
    "from tensorflow.keras.optimizers import Adam\n",
    "\n",
    "import keras_tuner as kt\n",
    "from keras_tuner.tuners import RandomSearch"
   ]
  },
  {
   "cell_type": "markdown",
   "metadata": {
    "id": "Xx9N-n_K4_3k"
   },
   "source": [
    "# Part 3.1: DNN with custom functions"
   ]
  },
  {
   "cell_type": "code",
   "execution_count": 20,
   "metadata": {
    "colab": {
     "base_uri": "https://localhost:8080/"
    },
    "id": "ENX7lCg3Ido4",
    "outputId": "af708052-7c70-4f6a-9e51-e7a5b3c10dd5"
   },
   "outputs": [
    {
     "name": "stdout",
     "output_type": "stream",
     "text": [
      "Model: \"sequential_2\"\n",
      "_________________________________________________________________\n",
      " Layer (type)                Output Shape              Param #   \n",
      "=================================================================\n",
      " dense_2 (Dense)             (None, 1024)              29696     \n",
      "                                                                 \n",
      " dense_3 (Dense)             (None, 512)               524800    \n",
      "                                                                 \n",
      " dense_4 (Dense)             (None, 256)               131328    \n",
      "                                                                 \n",
      " OUTPUT (Dense)              (None, 2)                 514       \n",
      "                                                                 \n",
      "=================================================================\n",
      "Total params: 686,338\n",
      "Trainable params: 686,338\n",
      "Non-trainable params: 0\n",
      "_________________________________________________________________\n"
     ]
    }
   ],
   "source": [
    "# Create a Deep Network\n",
    "DNN = Sequential()\n",
    "DNN.add(InputLayer(input_shape=x_train.shape[1:], name='INPUT'))\n",
    "\n",
    "DNN.add(Dense(units=1024, activation='relu'))\n",
    "DNN.add(Dense(units=512, activation='relu'))\n",
    "DNN.add(Dense(units=256, activation='relu'))\n",
    "\n",
    "DNN.add(Dense(units=y_train.shape[1], activation='linear', name='OUTPUT'))\n",
    "\n",
    "DNN.summary()"
   ]
  },
  {
   "cell_type": "code",
   "execution_count": 21,
   "metadata": {
    "id": "KWzdmn_gJDBW"
   },
   "outputs": [],
   "source": [
    "def r_square(y, y_hat):\n",
    "  \"\"\" Define R square loss, to use it as metric during training\n",
    "  \"\"\"\n",
    "  residual = tf.reduce_sum(tf.square(tf.subtract(y, y_hat)))\n",
    "  total = tf.reduce_sum(tf.square(tf.subtract(y, tf.reduce_mean(y))))\n",
    "  return tf.subtract(1.0, residual / total)"
   ]
  },
  {
   "cell_type": "code",
   "execution_count": 22,
   "metadata": {
    "id": "fZ_ThBsBet0H"
   },
   "outputs": [],
   "source": [
    "def my_mse(y, y_hat):\n",
    "  \"\"\" Define MSE loss, to use it as loss function\n",
    "  \"\"\"\n",
    "  return tf.reduce_mean(tf.square(y - y_hat))"
   ]
  },
  {
   "cell_type": "code",
   "execution_count": 23,
   "metadata": {
    "id": "Y8TlQWPOVfxw"
   },
   "outputs": [],
   "source": [
    "# Define training parameters\n",
    "# Option 1: Usar un optimizador predefinido, pero con hyperparams no estándar\n",
    "#from tensorflow.keras.optimizers import SGD\n",
    "#sgd = SGD(learning_rate=0.02, momentum=0.6)\n",
    "#DNN.compile(optimizer=sgd, loss='mse')\n",
    "\n",
    "# Option 2: Usar optimizador predefinido, con una pérdida custom, e incluir otras\n",
    "# métricas de monitoreo\n",
    "DNN.compile(optimizer='adam', loss=my_mse, metrics=['mape', r_square])\n",
    "\n",
    "# Try with different optimizers\n",
    "#DNN.compile(optimizer=???, loss='mse')"
   ]
  },
  {
   "cell_type": "code",
   "execution_count": 24,
   "metadata": {
    "colab": {
     "base_uri": "https://localhost:8080/"
    },
    "id": "wGzdI7gJMYRt",
    "outputId": "5ba892f2-7613-4c9c-ea95-cc1dfea527ef"
   },
   "outputs": [
    {
     "name": "stdout",
     "output_type": "stream",
     "text": [
      "Epoch 1/30\n",
      "202/202 [==============================] - 7s 30ms/step - loss: 895.4067 - mape: 32898722.0000 - r_square: -1376.7117 - val_loss: 0.3930 - val_mape: 2741619.2500 - val_r_square: 0.4012\n",
      "Epoch 2/30\n",
      "202/202 [==============================] - 6s 28ms/step - loss: 0.3750 - mape: 1679106.7500 - r_square: 0.4677 - val_loss: 0.3202 - val_mape: 2028643.8750 - val_r_square: 0.5086\n",
      "Epoch 3/30\n",
      "202/202 [==============================] - 4s 21ms/step - loss: 9.6587 - mape: 7159883.5000 - r_square: -12.2788 - val_loss: 2.5481 - val_mape: 8362832.0000 - val_r_square: -2.9766\n",
      "Epoch 4/30\n",
      "202/202 [==============================] - 4s 21ms/step - loss: 0.5361 - mape: 1733430.7500 - r_square: 0.2358 - val_loss: 0.4516 - val_mape: 2790783.7500 - val_r_square: 0.3004\n",
      "Epoch 5/30\n",
      "202/202 [==============================] - 4s 21ms/step - loss: 0.2928 - mape: 1314630.5000 - r_square: 0.5861 - val_loss: 0.2758 - val_mape: 1639824.2500 - val_r_square: 0.5863\n",
      "Epoch 6/30\n",
      "202/202 [==============================] - 4s 21ms/step - loss: 0.3130 - mape: 1396042.6250 - r_square: 0.5569 - val_loss: 0.6146 - val_mape: 2606619.5000 - val_r_square: 0.0503\n",
      "Epoch 7/30\n",
      "202/202 [==============================] - 4s 21ms/step - loss: 1.2103 - mape: 2650393.5000 - r_square: -0.7257 - val_loss: 0.4153 - val_mape: 2262480.7500 - val_r_square: 0.3591\n",
      "Epoch 8/30\n",
      "202/202 [==============================] - 4s 21ms/step - loss: 1.3992 - mape: 2893433.5000 - r_square: -1.0959 - val_loss: 26.4917 - val_mape: 24584080.0000 - val_r_square: -40.3173\n",
      "Epoch 9/30\n",
      "202/202 [==============================] - 6s 29ms/step - loss: 2.2341 - mape: 3214292.7500 - r_square: -2.2835 - val_loss: 0.4381 - val_mape: 1984382.6250 - val_r_square: 0.3421\n",
      "Epoch 10/30\n",
      "202/202 [==============================] - 4s 22ms/step - loss: 0.3082 - mape: 1230907.8750 - r_square: 0.5641 - val_loss: 0.3404 - val_mape: 2205500.2500 - val_r_square: 0.4793\n",
      "Epoch 11/30\n",
      "202/202 [==============================] - 5s 24ms/step - loss: 2.9742 - mape: 3591979.5000 - r_square: -3.4512 - val_loss: 5.6208 - val_mape: 10458874.0000 - val_r_square: -7.7057\n",
      "Epoch 12/30\n",
      "202/202 [==============================] - 4s 22ms/step - loss: 0.8696 - mape: 2070038.5000 - r_square: -0.2290 - val_loss: 0.3279 - val_mape: 2153464.0000 - val_r_square: 0.4939\n",
      "Epoch 13/30\n",
      "202/202 [==============================] - 4s 21ms/step - loss: 0.5092 - mape: 1659452.3750 - r_square: 0.2570 - val_loss: 0.2368 - val_mape: 1284852.7500 - val_r_square: 0.6376\n",
      "Epoch 14/30\n",
      "202/202 [==============================] - 4s 21ms/step - loss: 1.1763 - mape: 2292460.7500 - r_square: -0.6529 - val_loss: 0.2672 - val_mape: 1499302.7500 - val_r_square: 0.5962\n",
      "Epoch 15/30\n",
      "202/202 [==============================] - 4s 21ms/step - loss: 0.5530 - mape: 2045804.1250 - r_square: 0.2224 - val_loss: 0.2227 - val_mape: 1900594.6250 - val_r_square: 0.6621\n",
      "Epoch 16/30\n",
      "202/202 [==============================] - 4s 21ms/step - loss: 0.7147 - mape: 1880442.7500 - r_square: -0.0015 - val_loss: 0.4554 - val_mape: 1283901.7500 - val_r_square: 0.3175\n",
      "Epoch 17/30\n",
      "202/202 [==============================] - 4s 21ms/step - loss: 4.7328 - mape: 5324938.5000 - r_square: -6.0703 - val_loss: 1.1072 - val_mape: 3389614.7500 - val_r_square: -0.7159\n",
      "Epoch 18/30\n",
      "202/202 [==============================] - 4s 21ms/step - loss: 0.3858 - mape: 1482415.6250 - r_square: 0.4523 - val_loss: 0.2267 - val_mape: 2071917.3750 - val_r_square: 0.6571\n",
      "Epoch 19/30\n",
      "202/202 [==============================] - 4s 21ms/step - loss: 0.3832 - mape: 1398581.2500 - r_square: 0.4503 - val_loss: 0.2913 - val_mape: 2056963.0000 - val_r_square: 0.5528\n",
      "Epoch 20/30\n",
      "202/202 [==============================] - 4s 21ms/step - loss: 0.3071 - mape: 1350024.7500 - r_square: 0.5654 - val_loss: 0.3104 - val_mape: 1662307.3750 - val_r_square: 0.5258\n",
      "Epoch 21/30\n",
      "202/202 [==============================] - 4s 21ms/step - loss: 0.3300 - mape: 1467364.2500 - r_square: 0.5334 - val_loss: 0.2261 - val_mape: 2129237.7500 - val_r_square: 0.6574\n",
      "Epoch 22/30\n",
      "202/202 [==============================] - 4s 21ms/step - loss: 0.8300 - mape: 2173858.7500 - r_square: -0.1886 - val_loss: 0.3758 - val_mape: 1769768.0000 - val_r_square: 0.4275\n",
      "Epoch 23/30\n",
      "202/202 [==============================] - 4s 21ms/step - loss: 0.3500 - mape: 1526351.5000 - r_square: 0.5003 - val_loss: 0.2924 - val_mape: 1512021.7500 - val_r_square: 0.5559\n",
      "Epoch 24/30\n",
      "202/202 [==============================] - 4s 21ms/step - loss: 0.4287 - mape: 1527870.2500 - r_square: 0.3940 - val_loss: 1.4390 - val_mape: 5341167.0000 - val_r_square: -1.2615\n",
      "Epoch 25/30\n",
      "202/202 [==============================] - 4s 21ms/step - loss: 1.1471 - mape: 2479609.0000 - r_square: -0.6012 - val_loss: 0.2685 - val_mape: 2086748.7500 - val_r_square: 0.5895\n",
      "Epoch 26/30\n",
      "202/202 [==============================] - 4s 21ms/step - loss: 0.2783 - mape: 1389870.7500 - r_square: 0.6042 - val_loss: 0.2476 - val_mape: 2173273.2500 - val_r_square: 0.6203\n",
      "Epoch 27/30\n",
      "202/202 [==============================] - 4s 21ms/step - loss: 0.2652 - mape: 1249906.0000 - r_square: 0.6257 - val_loss: 0.2125 - val_mape: 1771249.1250 - val_r_square: 0.6796\n",
      "Epoch 28/30\n",
      "202/202 [==============================] - 4s 21ms/step - loss: 0.2879 - mape: 1371956.7500 - r_square: 0.5908 - val_loss: 0.6986 - val_mape: 2518246.5000 - val_r_square: -0.0592\n",
      "Epoch 29/30\n",
      "202/202 [==============================] - 4s 21ms/step - loss: 0.3254 - mape: 1542280.2500 - r_square: 0.5381 - val_loss: 0.2646 - val_mape: 1701219.2500 - val_r_square: 0.5970\n",
      "Epoch 30/30\n",
      "202/202 [==============================] - 4s 21ms/step - loss: 0.3116 - mape: 1452519.7500 - r_square: 0.5552 - val_loss: 0.2270 - val_mape: 1610268.3750 - val_r_square: 0.6535\n"
     ]
    }
   ],
   "source": [
    "# Train model\n",
    "H = DNN.fit(x=x_train, y=y_train, batch_size=128, epochs=30, validation_split=0.1)"
   ]
  },
  {
   "cell_type": "code",
   "execution_count": 25,
   "metadata": {
    "colab": {
     "base_uri": "https://localhost:8080/",
     "height": 290
    },
    "id": "sun9_RyLYzMM",
    "outputId": "5f529fe0-41f6-4e97-8165-58e59850a9fc"
   },
   "outputs": [
    {
     "data": {
      "image/png": "[encoded data removed]",
      "text/plain": [
       "<Figure size 1440x288 with 3 Axes>"
      ]
     },
     "metadata": {
      "needs_background": "light"
     },
     "output_type": "display_data"
    }
   ],
   "source": [
    "# Plot loss\n",
    "plt.figure(figsize=(20, 4))\n",
    "plt.subplot(1, 3, 1)\n",
    "plt.plot(DNN.history.history['loss'], label='Training', linewidth=2)\n",
    "plt.plot(DNN.history.history['val_loss'], label='Validation', linewidth=2)\n",
    "plt.legend()\n",
    "plt.xlabel('Epoch')\n",
    "plt.ylabel('Loss (mse)')\n",
    "plt.grid()\n",
    "plt.subplot(1, 3, 2)\n",
    "plt.plot(DNN.history.history['mape'], label='Training', linewidth=2)\n",
    "plt.plot(DNN.history.history['val_mape'], label='Validation', linewidth=2)\n",
    "plt.legend()\n",
    "plt.xlabel('Epoch')\n",
    "plt.ylabel('MAPE')\n",
    "plt.grid()\n",
    "plt.subplot(1, 3, 3)\n",
    "plt.plot(DNN.history.history['r_square'], label='Training', linewidth=2)\n",
    "plt.plot(DNN.history.history['val_r_square'], label='Validation', linewidth=2)\n",
    "plt.legend()\n",
    "plt.xlabel('Epoch')\n",
    "plt.ylabel('r square')\n",
    "plt.grid()\n",
    "plt.show()"
   ]
  },
  {
   "cell_type": "code",
   "execution_count": 26,
   "metadata": {
    "colab": {
     "base_uri": "https://localhost:8080/"
    },
    "id": "jqWaiy_fb0-x",
    "outputId": "289c59e2-5c8c-4bb4-f491-75099671b27d"
   },
   "outputs": [
    {
     "name": "stdout",
     "output_type": "stream",
     "text": [
      "Test loss, MAPE, and r2: [0.21267101168632507, 1090453.75, 0.6507461667060852]\n"
     ]
    }
   ],
   "source": [
    "# Compute test loss\n",
    "loss_test = DNN.evaluate(x=x_test, y=y_test, verbose=False)\n",
    "print(\"Test loss, MAPE, and r2:\", loss_test)"
   ]
  },
  {
   "cell_type": "code",
   "execution_count": 27,
   "metadata": {
    "colab": {
     "base_uri": "https://localhost:8080/"
    },
    "id": "lQxF7hMCb8Cp",
    "outputId": "8cec4ae2-d837-4951-a221-79c5d2b0e928"
   },
   "outputs": [
    {
     "name": "stdout",
     "output_type": "stream",
     "text": [
      "100/100 [==============================] - 1s 5ms/step\n",
      "(3182, 2)\n"
     ]
    }
   ],
   "source": [
    "# Predict on test set\n",
    "y_test_hat = DNN.predict(x=x_test)\n",
    "print(y_test_hat.shape)"
   ]
  },
  {
   "cell_type": "code",
   "execution_count": 28,
   "metadata": {
    "colab": {
     "base_uri": "https://localhost:8080/",
     "height": 295
    },
    "id": "tfAf4cIqcGyQ",
    "outputId": "e76d44e8-27f2-473d-93e9-72b002ef86d8"
   },
   "outputs": [
    {
     "data": {
      "image/png": "[encoded data removed]",
      "text/plain": [
       "<Figure size 432x288 with 1 Axes>"
      ]
     },
     "metadata": {
      "needs_background": "light"
     },
     "output_type": "display_data"
    }
   ],
   "source": [
    "# Plot y_test_hat\n",
    "indx = np.random.permutation(len(y_test))[:500]\n",
    "plt.scatter(y_test[indx, 0], y_test[indx, 1], c='b', label='y')\n",
    "plt.scatter(y_test_hat[indx, 0], y_test_hat[indx, 1], c='r', marker='+', label='y_h')\n",
    "\n",
    "plt.legend()\n",
    "plt.grid(True)\n",
    "plt.xlabel('PM2.5')\n",
    "plt.ylabel('NO2')\n",
    "plt.title('Test set and its predictions')\n",
    "plt.show()"
   ]
  },
  {
   "cell_type": "markdown",
   "metadata": {
    "id": "Flg_pGZD5_0F"
   },
   "source": [
    "# 3.2 Auto tuning of hyperparams: number of units and optimizer"
   ]
  },
  {
   "cell_type": "code",
   "execution_count": 29,
   "metadata": {
    "id": "KWp4wGxlhsI6"
   },
   "outputs": [],
   "source": [
    "def model_builder(hp):\n",
    "  ''' Define a auxiliar function to create DNN models with varying\n",
    "      hyperparameters.\n",
    "  '''\n",
    "  model = Sequential()\n",
    "  model.add(InputLayer(input_shape=x_train.shape[1:], name='INPUT'))\n",
    "\n",
    "  # Choose an optimal number of units for the unique hidden layer between 64-1024\n",
    "  hp_units = hp.Int('units', min_value=64, max_value=1024, step=64)\n",
    "  model.add(Dense(units=hp_units, activation='relu'))\n",
    "  # Add output layer\n",
    "  model.add(Dense(units=y_train.shape[1], name='OUTPUT'))\n",
    "\n",
    "  # Choose best optimizer\n",
    "  model.compile(optimizer=hp.Choice('optimizer', values=['sgd', 'adam', 'adagrad', 'adadelta']), loss='mse', metrics=['mape'])\n",
    "  \n",
    "  return model"
   ]
  },
  {
   "cell_type": "code",
   "execution_count": 30,
   "metadata": {
    "colab": {
     "base_uri": "https://localhost:8080/"
    },
    "id": "4wn2eOcXioPQ",
    "outputId": "6e77114a-9215-49a9-d58e-632890a421e7"
   },
   "outputs": [
    {
     "name": "stdout",
     "output_type": "stream",
     "text": [
      "Search space summary\n",
      "Default search space size: 2\n",
      "units (Int)\n",
      "{'default': None, 'conditions': [], 'min_value': 64, 'max_value': 1024, 'step': 64, 'sampling': None}\n",
      "optimizer (Choice)\n",
      "{'default': 'sgd', 'conditions': [], 'values': ['sgd', 'adam', 'adagrad', 'adadelta'], 'ordered': False}\n"
     ]
    }
   ],
   "source": [
    "# Create a tuner and show the search space\n",
    "tuner = RandomSearch(model_builder,\n",
    "                     objective='val_loss',\n",
    "                     max_trials=32)\n",
    "\n",
    "tuner.search_space_summary()"
   ]
  },
  {
   "cell_type": "code",
   "execution_count": 31,
   "metadata": {
    "colab": {
     "base_uri": "https://localhost:8080/"
    },
    "id": "wcjclyCRrKXN",
    "outputId": "09e66970-4c15-4bae-ba6c-51720f902f4e"
   },
   "outputs": [
    {
     "name": "stdout",
     "output_type": "stream",
     "text": [
      "Trial 32 Complete [00h 00m 20s]\n",
      "val_loss: 23100.95703125\n",
      "\n",
      "Best val_loss So Far: 0.5649695992469788\n",
      "Total elapsed time: 00h 11m 12s\n"
     ]
    }
   ],
   "source": [
    "# Make an initial quick exploration of the hyperparam space\n",
    "tuner.search(x_train, y_train, epochs=10, validation_split=0.1)"
   ]
  },
  {
   "cell_type": "code",
   "execution_count": 32,
   "metadata": {
    "colab": {
     "base_uri": "https://localhost:8080/"
    },
    "id": "PhQeUw8Lmqbx",
    "outputId": "af55f172-cb03-4814-e826-44ea80400fe3"
   },
   "outputs": [
    {
     "name": "stdout",
     "output_type": "stream",
     "text": [
      "Model: \"sequential\"\n",
      "_________________________________________________________________\n",
      " Layer (type)                Output Shape              Param #   \n",
      "=================================================================\n",
      " dense (Dense)               (None, 832)               24128     \n",
      "                                                                 \n",
      " OUTPUT (Dense)              (None, 2)                 1666      \n",
      "                                                                 \n",
      "=================================================================\n",
      "Total params: 25,794\n",
      "Trainable params: 25,794\n",
      "Non-trainable params: 0\n",
      "_________________________________________________________________\n"
     ]
    }
   ],
   "source": [
    "# Get the top model\n",
    "best_models = tuner.get_best_models()\n",
    "best_model = best_models[0]\n",
    "best_model.summary()"
   ]
  },
  {
   "cell_type": "code",
   "execution_count": 33,
   "metadata": {
    "colab": {
     "base_uri": "https://localhost:8080/"
    },
    "id": "pNR0VS3zmqgP",
    "outputId": "d971e113-fb21-4a49-8775-d0e7c0192a6e"
   },
   "outputs": [
    {
     "name": "stdout",
     "output_type": "stream",
     "text": [
      "Results summary\n",
      "Results in ./untitled_project\n",
      "Showing 10 best trials\n",
      "<keras_tuner.engine.objective.Objective object at 0x7fef1c91df10>\n",
      "Trial summary\n",
      "Hyperparameters:\n",
      "units: 832\n",
      "optimizer: adam\n",
      "Score: 0.5649695992469788\n",
      "Trial summary\n",
      "Hyperparameters:\n",
      "units: 256\n",
      "optimizer: sgd\n",
      "Score: nan\n",
      "Trial summary\n",
      "Hyperparameters:\n",
      "units: 1024\n",
      "optimizer: adagrad\n",
      "Score: 0.2437209188938141\n",
      "Trial summary\n",
      "Hyperparameters:\n",
      "units: 896\n",
      "optimizer: adagrad\n",
      "Score: 0.26681753993034363\n",
      "Trial summary\n",
      "Hyperparameters:\n",
      "units: 960\n",
      "optimizer: adagrad\n",
      "Score: 0.2715096175670624\n",
      "Trial summary\n",
      "Hyperparameters:\n",
      "units: 768\n",
      "optimizer: adagrad\n",
      "Score: 0.27279263734817505\n",
      "Trial summary\n",
      "Hyperparameters:\n",
      "units: 768\n",
      "optimizer: adam\n",
      "Score: 0.31814679503440857\n",
      "Trial summary\n",
      "Hyperparameters:\n",
      "units: 576\n",
      "optimizer: adam\n",
      "Score: 0.3665652275085449\n",
      "Trial summary\n",
      "Hyperparameters:\n",
      "units: 512\n",
      "optimizer: adam\n",
      "Score: 0.38109904527664185\n",
      "Trial summary\n",
      "Hyperparameters:\n",
      "units: 384\n",
      "optimizer: adagrad\n",
      "Score: 0.49032554030418396\n"
     ]
    }
   ],
   "source": [
    "# See top best results\n",
    "tuner.results_summary()"
   ]
  },
  {
   "cell_type": "code",
   "execution_count": 37,
   "metadata": {
    "colab": {
     "base_uri": "https://localhost:8080/"
    },
    "id": "Lz90Elusm48w",
    "outputId": "50f977fb-b843-4066-bf0b-51653d72370a"
   },
   "outputs": [
    {
     "data": {
      "text/plain": [
       "{'units': 832, 'optimizer': 'adam'}"
      ]
     },
     "execution_count": 37,
     "metadata": {},
     "output_type": "execute_result"
    }
   ],
   "source": [
    "# Retrieve the best combination of hyperparams\n",
    "best_hps = tuner.get_best_hyperparameters()[0]\n",
    "best_hps.values"
   ]
  },
  {
   "cell_type": "code",
   "execution_count": 38,
   "metadata": {
    "colab": {
     "base_uri": "https://localhost:8080/"
    },
    "id": "BjtVy3V_m4_P",
    "outputId": "a13b9124-c097-40db-dfc7-936b2bc82db3"
   },
   "outputs": [
    {
     "name": "stdout",
     "output_type": "stream",
     "text": [
      "Model: \"sequential_1\"\n",
      "_________________________________________________________________\n",
      " Layer (type)                Output Shape              Param #   \n",
      "=================================================================\n",
      " dense_1 (Dense)             (None, 832)               24128     \n",
      "                                                                 \n",
      " OUTPUT (Dense)              (None, 2)                 1666      \n",
      "                                                                 \n",
      "=================================================================\n",
      "Total params: 25,794\n",
      "Trainable params: 25,794\n",
      "Non-trainable params: 0\n",
      "_________________________________________________________________\n"
     ]
    }
   ],
   "source": [
    "# Create a new model using the best hyperparams\n",
    "DNN = model_builder(best_hps)\n",
    "DNN.summary()"
   ]
  },
  {
   "cell_type": "code",
   "execution_count": 39,
   "metadata": {
    "colab": {
     "base_uri": "https://localhost:8080/"
    },
    "id": "fIEdW5Rfm5CH",
    "outputId": "e90e16ef-f78e-4fe8-856c-1b1f8ae3343b"
   },
   "outputs": [
    {
     "name": "stdout",
     "output_type": "stream",
     "text": [
      "Epoch 1/100\n",
      "403/403 [==============================] - 2s 4ms/step - loss: 68.9694 - mape: 7676319.5000 - val_loss: 0.4150 - val_mape: 2715084.0000\n",
      "Epoch 2/100\n",
      "403/403 [==============================] - 1s 4ms/step - loss: 10.4336 - mape: 4578804.5000 - val_loss: 0.3304 - val_mape: 2698083.0000\n",
      "Epoch 3/100\n",
      "403/403 [==============================] - 1s 3ms/step - loss: 0.6250 - mape: 2193866.5000 - val_loss: 0.3927 - val_mape: 2875205.0000\n",
      "Epoch 4/100\n",
      "403/403 [==============================] - 1s 4ms/step - loss: 87.4326 - mape: 13470114.0000 - val_loss: 0.3998 - val_mape: 2745568.0000\n",
      "Epoch 5/100\n",
      "403/403 [==============================] - 1s 3ms/step - loss: 0.4997 - mape: 2202737.2500 - val_loss: 0.3466 - val_mape: 1960191.6250\n",
      "Epoch 6/100\n",
      "403/403 [==============================] - 1s 4ms/step - loss: 0.9497 - mape: 2702184.0000 - val_loss: 0.2683 - val_mape: 2179917.5000\n",
      "Epoch 7/100\n",
      "403/403 [==============================] - 2s 4ms/step - loss: 3.6101 - mape: 3808957.2500 - val_loss: 6.8674 - val_mape: 8951095.0000\n",
      "Epoch 8/100\n",
      "403/403 [==============================] - 1s 4ms/step - loss: 11.6796 - mape: 6319064.0000 - val_loss: 0.8241 - val_mape: 4472972.0000\n",
      "Epoch 9/100\n",
      "403/403 [==============================] - 2s 4ms/step - loss: 2.8478 - mape: 4042983.5000 - val_loss: 0.4732 - val_mape: 3827879.7500\n",
      "Epoch 10/100\n",
      "403/403 [==============================] - 1s 4ms/step - loss: 3.3122 - mape: 4209702.0000 - val_loss: 11.2869 - val_mape: 9469543.0000\n",
      "Epoch 11/100\n",
      "403/403 [==============================] - 2s 4ms/step - loss: 7.4726 - mape: 5225280.0000 - val_loss: 0.4668 - val_mape: 2897968.0000\n",
      "Epoch 12/100\n",
      "403/403 [==============================] - 2s 4ms/step - loss: 25.9163 - mape: 9893747.0000 - val_loss: 0.7087 - val_mape: 3223686.0000\n",
      "Epoch 13/100\n",
      "403/403 [==============================] - 2s 4ms/step - loss: 1.3512 - mape: 2583523.5000 - val_loss: 1.9606 - val_mape: 8231648.5000\n",
      "Epoch 14/100\n",
      "403/403 [==============================] - 2s 4ms/step - loss: 9.1633 - mape: 6217286.0000 - val_loss: 0.6290 - val_mape: 3501365.2500\n",
      "Epoch 15/100\n",
      "403/403 [==============================] - 1s 4ms/step - loss: 0.9846 - mape: 2632572.7500 - val_loss: 0.5904 - val_mape: 3515316.5000\n",
      "Epoch 16/100\n",
      "403/403 [==============================] - 1s 4ms/step - loss: 2.6185 - mape: 3764960.7500 - val_loss: 3.0722 - val_mape: 4987748.0000\n",
      "Epoch 17/100\n",
      "403/403 [==============================] - 1s 4ms/step - loss: 14.6691 - mape: 5267374.5000 - val_loss: 3.1429 - val_mape: 6509465.0000\n",
      "Epoch 18/100\n",
      "403/403 [==============================] - 1s 3ms/step - loss: 4.8875 - mape: 3344896.5000 - val_loss: 37.5010 - val_mape: 29342302.0000\n",
      "Epoch 19/100\n",
      "403/403 [==============================] - 1s 3ms/step - loss: 4.8199 - mape: 4186687.0000 - val_loss: 0.9997 - val_mape: 4657993.0000\n",
      "Epoch 20/100\n",
      "403/403 [==============================] - 1s 3ms/step - loss: 1.7259 - mape: 2758855.7500 - val_loss: 2.4084 - val_mape: 6292578.5000\n",
      "Epoch 21/100\n",
      "403/403 [==============================] - 2s 4ms/step - loss: 6.3858 - mape: 5468361.0000 - val_loss: 1.6368 - val_mape: 5418294.5000\n",
      "Epoch 22/100\n",
      "403/403 [==============================] - 1s 3ms/step - loss: 6.5566 - mape: 4330483.0000 - val_loss: 0.2954 - val_mape: 2157148.0000\n",
      "Epoch 23/100\n",
      "403/403 [==============================] - 1s 4ms/step - loss: 1.7281 - mape: 3108693.2500 - val_loss: 0.6901 - val_mape: 2702382.7500\n",
      "Epoch 24/100\n",
      "403/403 [==============================] - 1s 4ms/step - loss: 1.7992 - mape: 3642415.7500 - val_loss: 6.1239 - val_mape: 8843627.0000\n",
      "Epoch 25/100\n",
      "403/403 [==============================] - 1s 3ms/step - loss: 6.7181 - mape: 6784304.0000 - val_loss: 2.9778 - val_mape: 4830478.5000\n",
      "Epoch 26/100\n",
      "403/403 [==============================] - 1s 3ms/step - loss: 2.5875 - mape: 3896815.7500 - val_loss: 0.4594 - val_mape: 2340675.7500\n",
      "Epoch 27/100\n",
      "403/403 [==============================] - 1s 3ms/step - loss: 2.3546 - mape: 3815078.0000 - val_loss: 3.5985 - val_mape: 5888567.5000\n",
      "Epoch 28/100\n",
      "403/403 [==============================] - 1s 4ms/step - loss: 15.8550 - mape: 7405051.5000 - val_loss: 67.3316 - val_mape: 24793096.0000\n",
      "Epoch 29/100\n",
      "403/403 [==============================] - 1s 3ms/step - loss: 3.3475 - mape: 3818340.7500 - val_loss: 0.3815 - val_mape: 2353490.5000\n",
      "Epoch 30/100\n",
      "403/403 [==============================] - 1s 4ms/step - loss: 0.8315 - mape: 1823576.1250 - val_loss: 0.2846 - val_mape: 1819871.8750\n",
      "Epoch 31/100\n",
      "403/403 [==============================] - 1s 4ms/step - loss: 1.4544 - mape: 2901668.5000 - val_loss: 2.0240 - val_mape: 3926823.7500\n",
      "Epoch 32/100\n",
      "403/403 [==============================] - 1s 3ms/step - loss: 2.1504 - mape: 3574882.7500 - val_loss: 0.3987 - val_mape: 2317740.5000\n",
      "Epoch 33/100\n",
      "403/403 [==============================] - 1s 3ms/step - loss: 1.0764 - mape: 2170815.7500 - val_loss: 0.7110 - val_mape: 3284939.5000\n",
      "Epoch 34/100\n",
      "403/403 [==============================] - 1s 4ms/step - loss: 5.3885 - mape: 5482896.0000 - val_loss: 0.2862 - val_mape: 2116245.0000\n",
      "Epoch 35/100\n",
      "403/403 [==============================] - 1s 3ms/step - loss: 3.4333 - mape: 3089067.2500 - val_loss: 1.1106 - val_mape: 5067001.5000\n",
      "Epoch 36/100\n",
      "403/403 [==============================] - 1s 3ms/step - loss: 3.0610 - mape: 3576123.2500 - val_loss: 1.2343 - val_mape: 4580264.5000\n",
      "Epoch 37/100\n",
      "403/403 [==============================] - 1s 3ms/step - loss: 0.5375 - mape: 1917990.3750 - val_loss: 6.5967 - val_mape: 13212546.0000\n",
      "Epoch 38/100\n",
      "403/403 [==============================] - 2s 4ms/step - loss: 1.8232 - mape: 2966319.5000 - val_loss: 5.0344 - val_mape: 8305384.5000\n",
      "Epoch 39/100\n",
      "403/403 [==============================] - 3s 6ms/step - loss: 2.8331 - mape: 4552880.5000 - val_loss: 0.9692 - val_mape: 5249983.5000\n",
      "Epoch 40/100\n",
      "403/403 [==============================] - 2s 5ms/step - loss: 1.3888 - mape: 2586583.5000 - val_loss: 1.0354 - val_mape: 2951873.7500\n",
      "Epoch 41/100\n",
      "403/403 [==============================] - 1s 3ms/step - loss: 0.7192 - mape: 2049519.8750 - val_loss: 0.3852 - val_mape: 2230159.5000\n",
      "Epoch 42/100\n",
      "403/403 [==============================] - 1s 3ms/step - loss: 6.8584 - mape: 4135673.5000 - val_loss: 0.2601 - val_mape: 2147702.2500\n",
      "Epoch 43/100\n",
      "403/403 [==============================] - 1s 4ms/step - loss: 0.3657 - mape: 1701578.5000 - val_loss: 0.6391 - val_mape: 3764140.0000\n",
      "Epoch 44/100\n",
      "403/403 [==============================] - 1s 4ms/step - loss: 0.3700 - mape: 1549123.0000 - val_loss: 0.4239 - val_mape: 2710696.0000\n",
      "Epoch 45/100\n",
      "403/403 [==============================] - 1s 3ms/step - loss: 4.6477 - mape: 3790120.5000 - val_loss: 0.2330 - val_mape: 2146699.5000\n",
      "Epoch 46/100\n",
      "403/403 [==============================] - 2s 4ms/step - loss: 0.2934 - mape: 1397260.5000 - val_loss: 0.2786 - val_mape: 1905859.3750\n",
      "Epoch 47/100\n",
      "403/403 [==============================] - 1s 4ms/step - loss: 0.8969 - mape: 2377214.2500 - val_loss: 0.2477 - val_mape: 2063675.3750\n",
      "Epoch 48/100\n",
      "403/403 [==============================] - 1s 4ms/step - loss: 0.5011 - mape: 1752072.0000 - val_loss: 0.3884 - val_mape: 2166863.2500\n",
      "Epoch 49/100\n",
      "403/403 [==============================] - 1s 4ms/step - loss: 2.1871 - mape: 3330336.7500 - val_loss: 0.5328 - val_mape: 3018103.7500\n",
      "Epoch 50/100\n",
      "403/403 [==============================] - 2s 4ms/step - loss: 0.5046 - mape: 1707761.5000 - val_loss: 0.7633 - val_mape: 2029477.3750\n",
      "Epoch 51/100\n",
      "403/403 [==============================] - 1s 3ms/step - loss: 1.5893 - mape: 2496407.7500 - val_loss: 0.4159 - val_mape: 2781717.5000\n",
      "Epoch 52/100\n",
      "403/403 [==============================] - 1s 4ms/step - loss: 1.0645 - mape: 2436387.7500 - val_loss: 1.0981 - val_mape: 4826550.5000\n",
      "Epoch 53/100\n",
      "403/403 [==============================] - 1s 4ms/step - loss: 1.2889 - mape: 2730921.5000 - val_loss: 0.4190 - val_mape: 2232629.5000\n",
      "Epoch 54/100\n",
      "403/403 [==============================] - 1s 4ms/step - loss: 0.5135 - mape: 1807786.2500 - val_loss: 1.0463 - val_mape: 5404937.0000\n",
      "Epoch 55/100\n",
      "403/403 [==============================] - 1s 4ms/step - loss: 0.4453 - mape: 1712699.6250 - val_loss: 0.3449 - val_mape: 1616594.2500\n",
      "Epoch 56/100\n",
      "403/403 [==============================] - 2s 4ms/step - loss: 1.6055 - mape: 2599228.7500 - val_loss: 0.8516 - val_mape: 3328586.7500\n",
      "Epoch 57/100\n",
      "403/403 [==============================] - 1s 4ms/step - loss: 0.3182 - mape: 1435977.6250 - val_loss: 0.2693 - val_mape: 1342972.7500\n",
      "Epoch 58/100\n",
      "403/403 [==============================] - 1s 4ms/step - loss: 0.4184 - mape: 1650138.3750 - val_loss: 0.2259 - val_mape: 1578051.6250\n",
      "Epoch 59/100\n",
      "403/403 [==============================] - 2s 4ms/step - loss: 0.5018 - mape: 1772302.3750 - val_loss: 0.5239 - val_mape: 2811656.7500\n",
      "Epoch 60/100\n",
      "403/403 [==============================] - 1s 3ms/step - loss: 0.5293 - mape: 1935117.0000 - val_loss: 0.2196 - val_mape: 1836089.0000\n",
      "Epoch 61/100\n",
      "403/403 [==============================] - 1s 4ms/step - loss: 0.8087 - mape: 1838568.1250 - val_loss: 11.6304 - val_mape: 9278325.0000\n",
      "Epoch 62/100\n",
      "403/403 [==============================] - 1s 4ms/step - loss: 0.6302 - mape: 1732833.7500 - val_loss: 0.7178 - val_mape: 2799158.5000\n",
      "Epoch 63/100\n",
      "403/403 [==============================] - 1s 3ms/step - loss: 0.5672 - mape: 1627925.1250 - val_loss: 0.5104 - val_mape: 1381410.7500\n",
      "Epoch 64/100\n",
      "403/403 [==============================] - 1s 4ms/step - loss: 0.3131 - mape: 1410431.5000 - val_loss: 0.4117 - val_mape: 2211800.7500\n",
      "Epoch 65/100\n",
      "403/403 [==============================] - 1s 4ms/step - loss: 0.5509 - mape: 1835675.0000 - val_loss: 0.2181 - val_mape: 1413391.8750\n",
      "Epoch 66/100\n",
      "403/403 [==============================] - 2s 4ms/step - loss: 0.4491 - mape: 1584036.3750 - val_loss: 0.5018 - val_mape: 1882992.1250\n",
      "Epoch 67/100\n",
      "403/403 [==============================] - 2s 5ms/step - loss: 0.4359 - mape: 1503401.2500 - val_loss: 0.3151 - val_mape: 2089888.0000\n",
      "Epoch 68/100\n",
      "403/403 [==============================] - 2s 5ms/step - loss: 0.5405 - mape: 1716731.2500 - val_loss: 0.3193 - val_mape: 1656530.7500\n",
      "Epoch 69/100\n",
      "403/403 [==============================] - 3s 7ms/step - loss: 0.3473 - mape: 1548271.0000 - val_loss: 0.2186 - val_mape: 1726654.7500\n",
      "Epoch 70/100\n",
      "403/403 [==============================] - 1s 4ms/step - loss: 0.4281 - mape: 1773025.5000 - val_loss: 0.2308 - val_mape: 1421933.6250\n",
      "Epoch 71/100\n",
      "403/403 [==============================] - 2s 4ms/step - loss: 0.2721 - mape: 1351815.1250 - val_loss: 0.4619 - val_mape: 2681317.7500\n",
      "Epoch 72/100\n",
      "403/403 [==============================] - 2s 4ms/step - loss: 0.3791 - mape: 1509624.8750 - val_loss: 0.4000 - val_mape: 1953078.5000\n",
      "Epoch 73/100\n",
      "403/403 [==============================] - 2s 5ms/step - loss: 0.3413 - mape: 1402306.0000 - val_loss: 0.1855 - val_mape: 1590451.8750\n",
      "Epoch 74/100\n",
      "403/403 [==============================] - 2s 5ms/step - loss: 0.4025 - mape: 1555633.1250 - val_loss: 0.1957 - val_mape: 1525874.7500\n",
      "Epoch 75/100\n",
      "403/403 [==============================] - 2s 5ms/step - loss: 0.2412 - mape: 1161158.0000 - val_loss: 0.3398 - val_mape: 1857097.2500\n",
      "Epoch 76/100\n",
      "403/403 [==============================] - 2s 4ms/step - loss: 0.2538 - mape: 1281333.8750 - val_loss: 0.2011 - val_mape: 1316984.1250\n",
      "Epoch 77/100\n",
      "403/403 [==============================] - 3s 7ms/step - loss: 0.3018 - mape: 1406161.8750 - val_loss: 0.3963 - val_mape: 2200130.2500\n",
      "Epoch 78/100\n",
      "403/403 [==============================] - 1s 3ms/step - loss: 0.2569 - mape: 1286995.8750 - val_loss: 0.3254 - val_mape: 1593278.7500\n",
      "Epoch 79/100\n",
      "403/403 [==============================] - 1s 4ms/step - loss: 0.2722 - mape: 1365764.0000 - val_loss: 0.2736 - val_mape: 1779987.2500\n",
      "Epoch 80/100\n",
      "403/403 [==============================] - 2s 4ms/step - loss: 0.2517 - mape: 1260360.0000 - val_loss: 0.2400 - val_mape: 1989880.5000\n",
      "Epoch 81/100\n",
      "403/403 [==============================] - 3s 8ms/step - loss: 0.2248 - mape: 1200154.5000 - val_loss: 0.2236 - val_mape: 2104271.2500\n",
      "Epoch 82/100\n",
      "403/403 [==============================] - 3s 8ms/step - loss: 0.2980 - mape: 1455501.8750 - val_loss: 0.2024 - val_mape: 1593440.5000\n",
      "Epoch 83/100\n",
      "403/403 [==============================] - 3s 8ms/step - loss: 0.2389 - mape: 1307002.2500 - val_loss: 0.2072 - val_mape: 1620316.7500\n",
      "Epoch 84/100\n",
      "403/403 [==============================] - 2s 5ms/step - loss: 0.2198 - mape: 1121496.0000 - val_loss: 0.2011 - val_mape: 1773066.5000\n",
      "Epoch 85/100\n",
      "403/403 [==============================] - 1s 4ms/step - loss: 0.2431 - mape: 1239333.1250 - val_loss: 0.2149 - val_mape: 1674896.6250\n",
      "Epoch 86/100\n",
      "403/403 [==============================] - 1s 4ms/step - loss: 0.2194 - mape: 1247926.6250 - val_loss: 0.1896 - val_mape: 1833007.5000\n",
      "Epoch 87/100\n",
      "403/403 [==============================] - 1s 4ms/step - loss: 0.2306 - mape: 1124381.7500 - val_loss: 0.1912 - val_mape: 1771098.8750\n",
      "Epoch 88/100\n",
      "403/403 [==============================] - 1s 4ms/step - loss: 0.2135 - mape: 1148981.3750 - val_loss: 0.2412 - val_mape: 1772690.0000\n",
      "Epoch 89/100\n",
      "403/403 [==============================] - 2s 4ms/step - loss: 0.2170 - mape: 1182830.2500 - val_loss: 0.2171 - val_mape: 1516988.6250\n",
      "Epoch 90/100\n",
      "403/403 [==============================] - 2s 4ms/step - loss: 0.2121 - mape: 1226784.3750 - val_loss: 0.1889 - val_mape: 1687693.0000\n",
      "Epoch 91/100\n",
      "403/403 [==============================] - 1s 4ms/step - loss: 0.2067 - mape: 1148351.6250 - val_loss: 0.1898 - val_mape: 1657514.7500\n",
      "Epoch 92/100\n",
      "403/403 [==============================] - 1s 4ms/step - loss: 0.2116 - mape: 1192836.1250 - val_loss: 0.2051 - val_mape: 1309261.3750\n",
      "Epoch 93/100\n",
      "403/403 [==============================] - 1s 4ms/step - loss: 0.2007 - mape: 1162418.6250 - val_loss: 0.1990 - val_mape: 1753386.8750\n",
      "Epoch 94/100\n",
      "403/403 [==============================] - 1s 4ms/step - loss: 0.2026 - mape: 1102874.6250 - val_loss: 0.1938 - val_mape: 1962673.3750\n",
      "Epoch 95/100\n",
      "403/403 [==============================] - 1s 4ms/step - loss: 0.2036 - mape: 1119632.1250 - val_loss: 0.2538 - val_mape: 2022716.3750\n",
      "Epoch 96/100\n",
      "403/403 [==============================] - 1s 4ms/step - loss: 0.2020 - mape: 1129905.6250 - val_loss: 0.1955 - val_mape: 1870608.2500\n",
      "Epoch 97/100\n",
      "403/403 [==============================] - 1s 4ms/step - loss: 0.1967 - mape: 1096206.6250 - val_loss: 0.1976 - val_mape: 1796298.5000\n",
      "Epoch 98/100\n",
      "403/403 [==============================] - 1s 4ms/step - loss: 0.1993 - mape: 1175013.5000 - val_loss: 0.2042 - val_mape: 1666770.7500\n",
      "Epoch 99/100\n",
      "403/403 [==============================] - 1s 4ms/step - loss: 0.1987 - mape: 1145212.6250 - val_loss: 0.2092 - val_mape: 2125100.2500\n",
      "Epoch 100/100\n",
      "403/403 [==============================] - 1s 4ms/step - loss: 0.1975 - mape: 1151918.8750 - val_loss: 0.1829 - val_mape: 1664134.6250\n"
     ]
    }
   ],
   "source": [
    "# Full training of best model\n",
    "H = DNN.fit(x=x_train, y=y_train, batch_size=64, epochs=100, validation_split=0.1)"
   ]
  },
  {
   "cell_type": "markdown",
   "metadata": {
    "id": "YABYPnzS8ab3"
   },
   "source": [
    "# 3.2 Auto tuning of hyperparams: number of layers, number of units, and optimizer"
   ]
  },
  {
   "cell_type": "code",
   "execution_count": 12,
   "metadata": {
    "id": "BTI4XeEIDENi"
   },
   "outputs": [],
   "source": [
    "def model_builder(hp):\n",
    "  ''' Define a auxiliar function to create DNN models with varying\n",
    "      hyperparameters.\n",
    "  '''\n",
    "  model = Sequential()\n",
    "  model.add(InputLayer(input_shape=x_train.shape[1:], name='INPUT'))\n",
    "\n",
    "  # Choose optimal number of layers between 2 and 8\n",
    "  for i in range(hp.Int('num_layers', 2, 8)):\n",
    "    # Tune the number of units in the each dense layer\n",
    "    hp_units = hp.Int('units_'+str(i), min_value=64, max_value=1024, step=64)\n",
    "    model.add(Dense(units=hp_units, activation='relu'))\n",
    "  # Add output layer\n",
    "  model.add(Dense(units=y_train.shape[1], name='OUTPUT'))\n",
    "\n",
    "  # Choose best optimizer\n",
    "  model.compile(optimizer=hp.Choice('optimizer', values=['sgd', 'adam', 'adagrad', 'adadelta']), loss='mse', metrics=['mape'])\n",
    "  \n",
    "  return model"
   ]
  },
  {
   "cell_type": "code",
   "execution_count": 40,
   "metadata": {
    "id": "8BfZHAjl816a"
   },
   "outputs": [],
   "source": [
    "def model_builder(hp):\n",
    "  model = Sequential()\n",
    "  model.add(InputLayer(input_shape=x_train.shape[1:], name='INPUT'))\n",
    "\n",
    "  # Choose an optimal number of units between 64-1024\n",
    "  #hp_units = hp.Int('units', min_value=64, max_value=1024, step=64)\n",
    "  # Choose optimal number of layers between 2 and 8\n",
    "  for i in range(hp.Int('layers', 2, 8)):\n",
    "    model.add(Dense(units=hp.Int('units_' + str(i), min_value=64, max_value=1024, step=64), activation='relu'))\n",
    "    #model.add(Dense(units=hp_units, activation='relu'))\n",
    "  # Add output layer\n",
    "  model.add(Dense(units=y_train.shape[1], name='OUTPUT'))\n",
    "\n",
    "  # Choose best optimizer\n",
    "  model.compile(optimizer=hp.Choice('optimizer', values=['sgd', 'adam', 'adagrad', 'adadelta']), loss='mse', metrics=['mape'])\n",
    "  \n",
    "  return model"
   ]
  },
  {
   "cell_type": "code",
   "execution_count": 15,
   "metadata": {
    "colab": {
     "base_uri": "https://localhost:8080/"
    },
    "id": "qROz7Ldj816c",
    "outputId": "03a3e043-ee75-4eb0-e2ce-2fc77202292a"
   },
   "outputs": [
    {
     "name": "stdout",
     "output_type": "stream",
     "text": [
      "Search space summary\n",
      "Default search space size: 4\n",
      "num_layers (Int)\n",
      "{'default': None, 'conditions': [], 'min_value': 2, 'max_value': 8, 'step': 1, 'sampling': None}\n",
      "units_0 (Int)\n",
      "{'default': None, 'conditions': [], 'min_value': 64, 'max_value': 1024, 'step': 64, 'sampling': None}\n",
      "units_1 (Int)\n",
      "{'default': None, 'conditions': [], 'min_value': 64, 'max_value': 1024, 'step': 64, 'sampling': None}\n",
      "optimizer (Choice)\n",
      "{'default': 'sgd', 'conditions': [], 'values': ['sgd', 'adam', 'adagrad', 'adadelta'], 'ordered': False}\n"
     ]
    }
   ],
   "source": [
    "# Create a tuner and show the search space\n",
    "tuner = RandomSearch(model_builder,\n",
    "                     objective='val_loss',\n",
    "                     max_trials=64)\n",
    "\n",
    "tuner.search_space_summary()"
   ]
  },
  {
   "cell_type": "code",
   "execution_count": 16,
   "metadata": {
    "colab": {
     "base_uri": "https://localhost:8080/"
    },
    "id": "csXz6fCT816e",
    "outputId": "ad967590-d5fa-4264-bdd6-cf52fbcebfee"
   },
   "outputs": [
    {
     "name": "stdout",
     "output_type": "stream",
     "text": [
      "Trial 64 Complete [00h 00m 42s]\n",
      "val_loss: 0.24353425204753876\n",
      "\n",
      "Best val_loss So Far: 0.2558753192424774\n",
      "Total elapsed time: 00h 39m 15s\n"
     ]
    }
   ],
   "source": [
    "# Make an initial quick exploration of the hyperparam space\n",
    "tuner.search(x_train, y_train, epochs=10, validation_split=0.1)"
   ]
  },
  {
   "cell_type": "code",
   "execution_count": 17,
   "metadata": {
    "colab": {
     "base_uri": "https://localhost:8080/"
    },
    "id": "MPbRzq6_816f",
    "outputId": "c29c4848-568c-43f9-a2db-702d6913ea50"
   },
   "outputs": [
    {
     "name": "stdout",
     "output_type": "stream",
     "text": [
      "Model: \"sequential\"\n",
      "_________________________________________________________________\n",
      " Layer (type)                Output Shape              Param #   \n",
      "=================================================================\n",
      " dense (Dense)               (None, 960)               27840     \n",
      "                                                                 \n",
      " dense_1 (Dense)             (None, 192)               184512    \n",
      "                                                                 \n",
      " dense_2 (Dense)             (None, 64)                12352     \n",
      "                                                                 \n",
      " dense_3 (Dense)             (None, 64)                4160      \n",
      "                                                                 \n",
      " OUTPUT (Dense)              (None, 2)                 130       \n",
      "                                                                 \n",
      "=================================================================\n",
      "Total params: 228,994\n",
      "Trainable params: 228,994\n",
      "Non-trainable params: 0\n",
      "_________________________________________________________________\n"
     ]
    },
    {
     "name": "stderr",
     "output_type": "stream",
     "text": [
      "WARNING:tensorflow:Detecting that an object or model or tf.train.Checkpoint is being deleted with unrestored values. See the following logs for the specific values in question. To silence these warnings, use `status.expect_partial()`. See https://www.tensorflow.org/api_docs/python/tf/train/Checkpoint#restorefor details about the status object returned by the restore function.\n",
      "WARNING:tensorflow:Value in checkpoint could not be found in the restored object: (root).optimizer.iter\n",
      "WARNING:tensorflow:Value in checkpoint could not be found in the restored object: (root).optimizer.decay\n",
      "WARNING:tensorflow:Value in checkpoint could not be found in the restored object: (root).optimizer.learning_rate\n"
     ]
    }
   ],
   "source": [
    "# Get the top model\n",
    "tuner.get_best_models()[0].summary()"
   ]
  },
  {
   "cell_type": "code",
   "execution_count": 18,
   "metadata": {
    "colab": {
     "base_uri": "https://localhost:8080/"
    },
    "id": "Fk5_k3SY816h",
    "outputId": "1b2e5ee7-042a-4e83-d8be-434eb598e533"
   },
   "outputs": [
    {
     "name": "stdout",
     "output_type": "stream",
     "text": [
      "Model: \"sequential_1\"\n",
      "_________________________________________________________________\n",
      " Layer (type)                Output Shape              Param #   \n",
      "=================================================================\n",
      " dense_4 (Dense)             (None, 960)               27840     \n",
      "                                                                 \n",
      " dense_5 (Dense)             (None, 192)               184512    \n",
      "                                                                 \n",
      " dense_6 (Dense)             (None, 64)                12352     \n",
      "                                                                 \n",
      " dense_7 (Dense)             (None, 64)                4160      \n",
      "                                                                 \n",
      " OUTPUT (Dense)              (None, 2)                 130       \n",
      "                                                                 \n",
      "=================================================================\n",
      "Total params: 228,994\n",
      "Trainable params: 228,994\n",
      "Non-trainable params: 0\n",
      "_________________________________________________________________\n"
     ]
    }
   ],
   "source": [
    "# Create a new model using the best hyperparams\n",
    "DNN = model_builder(tuner.get_best_hyperparameters()[0])\n",
    "DNN.summary()"
   ]
  },
  {
   "cell_type": "code",
   "execution_count": 19,
   "metadata": {
    "colab": {
     "base_uri": "https://localhost:8080/"
    },
    "id": "dPBWgCyh816h",
    "outputId": "d6f9059f-7d60-495e-bf64-50d20424624b"
   },
   "outputs": [
    {
     "name": "stdout",
     "output_type": "stream",
     "text": [
      "Epoch 1/100\n",
      "403/403 [==============================] - 2s 4ms/step - loss: 14.7945 - mape: 3864440.7500 - val_loss: 0.3963 - val_mape: 1569211.3750\n",
      "Epoch 2/100\n",
      "403/403 [==============================] - 1s 3ms/step - loss: 0.3291 - mape: 1651033.5000 - val_loss: 0.3181 - val_mape: 1057924.8750\n",
      "Epoch 3/100\n",
      "403/403 [==============================] - 1s 3ms/step - loss: 0.2901 - mape: 1523127.8750 - val_loss: 0.2829 - val_mape: 1350058.6250\n",
      "Epoch 4/100\n",
      "403/403 [==============================] - 1s 3ms/step - loss: 0.2724 - mape: 1502758.1250 - val_loss: 0.2654 - val_mape: 888666.5625\n",
      "Epoch 5/100\n",
      "403/403 [==============================] - 1s 3ms/step - loss: 0.2612 - mape: 1508314.8750 - val_loss: 0.2760 - val_mape: 882601.8125\n",
      "Epoch 6/100\n",
      "403/403 [==============================] - 1s 3ms/step - loss: 0.2539 - mape: 1442887.5000 - val_loss: 0.2835 - val_mape: 756900.3125\n",
      "Epoch 7/100\n",
      "403/403 [==============================] - 1s 3ms/step - loss: 0.2485 - mape: 1430663.8750 - val_loss: 0.2500 - val_mape: 962970.2500\n",
      "Epoch 8/100\n",
      "403/403 [==============================] - 1s 3ms/step - loss: 0.2435 - mape: 1418963.0000 - val_loss: 0.2435 - val_mape: 1138973.0000\n",
      "Epoch 9/100\n",
      "403/403 [==============================] - 1s 3ms/step - loss: 0.2410 - mape: 1420965.0000 - val_loss: 0.2442 - val_mape: 717927.1250\n",
      "Epoch 10/100\n",
      "403/403 [==============================] - 1s 3ms/step - loss: 0.2373 - mape: 1409871.3750 - val_loss: 0.2456 - val_mape: 961132.0000\n",
      "Epoch 11/100\n",
      "403/403 [==============================] - 1s 3ms/step - loss: 0.2348 - mape: 1376103.2500 - val_loss: 0.2396 - val_mape: 852726.6250\n",
      "Epoch 12/100\n",
      "403/403 [==============================] - 1s 3ms/step - loss: 0.2342 - mape: 1411051.0000 - val_loss: 0.2387 - val_mape: 1087208.3750\n",
      "Epoch 13/100\n",
      "403/403 [==============================] - 1s 3ms/step - loss: 0.2325 - mape: 1362655.5000 - val_loss: 0.2365 - val_mape: 1072467.2500\n",
      "Epoch 14/100\n",
      "403/403 [==============================] - 1s 3ms/step - loss: 0.2299 - mape: 1397497.8750 - val_loss: 0.2328 - val_mape: 865324.6875\n",
      "Epoch 15/100\n",
      "403/403 [==============================] - 1s 3ms/step - loss: 0.2296 - mape: 1346988.8750 - val_loss: 0.2334 - val_mape: 888761.9375\n",
      "Epoch 16/100\n",
      "403/403 [==============================] - 1s 3ms/step - loss: 0.2272 - mape: 1420447.7500 - val_loss: 0.2403 - val_mape: 788942.6875\n",
      "Epoch 17/100\n",
      "403/403 [==============================] - 1s 3ms/step - loss: 0.2266 - mape: 1367901.2500 - val_loss: 0.2273 - val_mape: 930254.1250\n",
      "Epoch 18/100\n",
      "403/403 [==============================] - 1s 3ms/step - loss: 0.2259 - mape: 1362411.8750 - val_loss: 0.2292 - val_mape: 824730.1250\n",
      "Epoch 19/100\n",
      "403/403 [==============================] - 1s 3ms/step - loss: 0.2261 - mape: 1342128.6250 - val_loss: 0.2348 - val_mape: 960319.3750\n",
      "Epoch 20/100\n",
      "403/403 [==============================] - 1s 3ms/step - loss: 0.2240 - mape: 1380138.5000 - val_loss: 0.2289 - val_mape: 877994.4375\n",
      "Epoch 21/100\n",
      "403/403 [==============================] - 1s 3ms/step - loss: 0.2224 - mape: 1354956.8750 - val_loss: 0.2327 - val_mape: 1047590.4375\n",
      "Epoch 22/100\n",
      "403/403 [==============================] - 1s 3ms/step - loss: 0.2215 - mape: 1346496.8750 - val_loss: 0.2279 - val_mape: 774507.6250\n",
      "Epoch 23/100\n",
      "403/403 [==============================] - 1s 3ms/step - loss: 0.2210 - mape: 1324919.0000 - val_loss: 0.2268 - val_mape: 797876.8125\n",
      "Epoch 24/100\n",
      "403/403 [==============================] - 1s 3ms/step - loss: 0.2208 - mape: 1328054.6250 - val_loss: 0.2255 - val_mape: 847910.1875\n",
      "Epoch 25/100\n",
      "403/403 [==============================] - 1s 3ms/step - loss: 0.2201 - mape: 1297664.6250 - val_loss: 0.2282 - val_mape: 806083.8125\n",
      "Epoch 26/100\n",
      "403/403 [==============================] - 1s 3ms/step - loss: 0.2205 - mape: 1336811.1250 - val_loss: 0.2321 - val_mape: 812504.7500\n",
      "Epoch 27/100\n",
      "403/403 [==============================] - 1s 3ms/step - loss: 0.2196 - mape: 1291349.2500 - val_loss: 0.2275 - val_mape: 899179.0000\n",
      "Epoch 28/100\n",
      "403/403 [==============================] - 1s 3ms/step - loss: 0.2190 - mape: 1301760.0000 - val_loss: 0.2217 - val_mape: 848712.7500\n",
      "Epoch 29/100\n",
      "403/403 [==============================] - 1s 3ms/step - loss: 0.2186 - mape: 1321866.8750 - val_loss: 0.2282 - val_mape: 787277.5625\n",
      "Epoch 30/100\n",
      "403/403 [==============================] - 1s 3ms/step - loss: 0.2174 - mape: 1300026.6250 - val_loss: 0.2272 - val_mape: 1032231.1250\n",
      "Epoch 31/100\n",
      "403/403 [==============================] - 1s 3ms/step - loss: 0.2164 - mape: 1316029.2500 - val_loss: 0.2396 - val_mape: 1017910.4375\n",
      "Epoch 32/100\n",
      "403/403 [==============================] - 1s 3ms/step - loss: 0.2167 - mape: 1307581.3750 - val_loss: 0.2208 - val_mape: 901064.3750\n",
      "Epoch 33/100\n",
      "403/403 [==============================] - 1s 3ms/step - loss: 0.2165 - mape: 1307028.1250 - val_loss: 0.2278 - val_mape: 897667.1875\n",
      "Epoch 34/100\n",
      "403/403 [==============================] - 1s 3ms/step - loss: 0.2155 - mape: 1360169.3750 - val_loss: 0.2198 - val_mape: 799516.8125\n",
      "Epoch 35/100\n",
      "403/403 [==============================] - 1s 3ms/step - loss: 0.2147 - mape: 1277267.5000 - val_loss: 0.2303 - val_mape: 803258.8750\n",
      "Epoch 36/100\n",
      "403/403 [==============================] - 1s 3ms/step - loss: 0.2147 - mape: 1288331.3750 - val_loss: 0.2196 - val_mape: 850813.6875\n",
      "Epoch 37/100\n",
      "403/403 [==============================] - 1s 3ms/step - loss: 0.2137 - mape: 1306157.0000 - val_loss: 0.2217 - val_mape: 742616.1250\n",
      "Epoch 38/100\n",
      "403/403 [==============================] - 1s 3ms/step - loss: 0.2146 - mape: 1288380.1250 - val_loss: 0.2202 - val_mape: 803936.3750\n",
      "Epoch 39/100\n",
      "403/403 [==============================] - 1s 3ms/step - loss: 0.2140 - mape: 1293892.2500 - val_loss: 0.2210 - val_mape: 964944.8125\n",
      "Epoch 40/100\n",
      "403/403 [==============================] - 1s 3ms/step - loss: 0.2127 - mape: 1310964.0000 - val_loss: 0.2334 - val_mape: 909612.5000\n",
      "Epoch 41/100\n",
      "403/403 [==============================] - 1s 3ms/step - loss: 0.2129 - mape: 1286637.2500 - val_loss: 0.2347 - val_mape: 860112.4375\n",
      "Epoch 42/100\n",
      "403/403 [==============================] - 1s 3ms/step - loss: 0.2131 - mape: 1312609.5000 - val_loss: 0.2205 - val_mape: 879640.1250\n",
      "Epoch 43/100\n",
      "403/403 [==============================] - 1s 3ms/step - loss: 0.2123 - mape: 1273272.5000 - val_loss: 0.2297 - val_mape: 857384.7500\n",
      "Epoch 44/100\n",
      "403/403 [==============================] - 1s 3ms/step - loss: 0.2112 - mape: 1271121.3750 - val_loss: 0.2209 - val_mape: 965975.7500\n",
      "Epoch 45/100\n",
      "403/403 [==============================] - 1s 3ms/step - loss: 0.2112 - mape: 1276466.1250 - val_loss: 0.2244 - val_mape: 959521.0625\n",
      "Epoch 46/100\n",
      "403/403 [==============================] - 1s 3ms/step - loss: 0.2107 - mape: 1296478.8750 - val_loss: 0.2206 - val_mape: 763277.2500\n",
      "Epoch 47/100\n",
      "403/403 [==============================] - 1s 3ms/step - loss: 0.2114 - mape: 1273296.2500 - val_loss: 0.2150 - val_mape: 866921.1250\n",
      "Epoch 48/100\n",
      "403/403 [==============================] - 1s 3ms/step - loss: 0.2106 - mape: 1246134.5000 - val_loss: 0.2262 - val_mape: 1075965.7500\n",
      "Epoch 49/100\n",
      "403/403 [==============================] - 1s 3ms/step - loss: 0.2097 - mape: 1293751.8750 - val_loss: 0.2272 - val_mape: 907624.6875\n",
      "Epoch 50/100\n",
      "403/403 [==============================] - 1s 3ms/step - loss: 0.2094 - mape: 1272635.5000 - val_loss: 0.2192 - val_mape: 1086482.0000\n",
      "Epoch 51/100\n",
      "403/403 [==============================] - 1s 3ms/step - loss: 0.2099 - mape: 1232411.8750 - val_loss: 0.2159 - val_mape: 841980.4375\n",
      "Epoch 52/100\n",
      "403/403 [==============================] - 1s 3ms/step - loss: 0.2097 - mape: 1271010.5000 - val_loss: 0.2245 - val_mape: 1030591.1250\n",
      "Epoch 53/100\n",
      "403/403 [==============================] - 1s 3ms/step - loss: 0.2089 - mape: 1294832.1250 - val_loss: 0.2241 - val_mape: 1059855.8750\n",
      "Epoch 54/100\n",
      "403/403 [==============================] - 1s 3ms/step - loss: 0.2089 - mape: 1262120.2500 - val_loss: 0.2218 - val_mape: 881496.3750\n",
      "Epoch 55/100\n",
      "403/403 [==============================] - 1s 3ms/step - loss: 0.2087 - mape: 1226833.5000 - val_loss: 0.2203 - val_mape: 939117.8750\n",
      "Epoch 56/100\n",
      "403/403 [==============================] - 1s 3ms/step - loss: 0.2090 - mape: 1267251.0000 - val_loss: 0.2430 - val_mape: 902010.8125\n",
      "Epoch 57/100\n",
      "403/403 [==============================] - 1s 3ms/step - loss: 0.2084 - mape: 1248387.3750 - val_loss: 0.2123 - val_mape: 919530.4375\n",
      "Epoch 58/100\n",
      "403/403 [==============================] - 1s 4ms/step - loss: 0.2080 - mape: 1258581.5000 - val_loss: 0.2260 - val_mape: 733240.1875\n",
      "Epoch 59/100\n",
      "403/403 [==============================] - 1s 3ms/step - loss: 0.2080 - mape: 1218993.8750 - val_loss: 0.2233 - val_mape: 811961.5000\n",
      "Epoch 60/100\n",
      "403/403 [==============================] - 1s 3ms/step - loss: 0.2067 - mape: 1264338.2500 - val_loss: 0.2260 - val_mape: 938809.3750\n",
      "Epoch 61/100\n",
      "403/403 [==============================] - 1s 3ms/step - loss: 0.2081 - mape: 1279391.7500 - val_loss: 0.2166 - val_mape: 1099299.8750\n",
      "Epoch 62/100\n",
      "403/403 [==============================] - 1s 3ms/step - loss: 0.2070 - mape: 1220195.5000 - val_loss: 0.2144 - val_mape: 812635.3750\n",
      "Epoch 63/100\n",
      "403/403 [==============================] - 1s 3ms/step - loss: 0.2083 - mape: 1265766.6250 - val_loss: 0.2175 - val_mape: 975071.6250\n",
      "Epoch 64/100\n",
      "403/403 [==============================] - 1s 3ms/step - loss: 0.2072 - mape: 1272974.0000 - val_loss: 0.2173 - val_mape: 883799.5000\n",
      "Epoch 65/100\n",
      "403/403 [==============================] - 1s 3ms/step - loss: 0.2073 - mape: 1261877.2500 - val_loss: 0.2170 - val_mape: 857763.3750\n",
      "Epoch 66/100\n",
      "403/403 [==============================] - 1s 3ms/step - loss: 0.2066 - mape: 1223682.0000 - val_loss: 0.2130 - val_mape: 895938.3125\n",
      "Epoch 67/100\n",
      "403/403 [==============================] - 1s 3ms/step - loss: 0.2065 - mape: 1288822.1250 - val_loss: 0.2284 - val_mape: 792484.1250\n",
      "Epoch 68/100\n",
      "403/403 [==============================] - 1s 3ms/step - loss: 0.2056 - mape: 1225713.1250 - val_loss: 0.2147 - val_mape: 921372.8750\n",
      "Epoch 69/100\n",
      "403/403 [==============================] - 1s 3ms/step - loss: 0.2066 - mape: 1246313.6250 - val_loss: 0.2136 - val_mape: 870589.4375\n",
      "Epoch 70/100\n",
      "403/403 [==============================] - 1s 3ms/step - loss: 0.2060 - mape: 1239001.0000 - val_loss: 0.2142 - val_mape: 779278.1250\n",
      "Epoch 71/100\n",
      "403/403 [==============================] - 1s 3ms/step - loss: 0.2063 - mape: 1245662.5000 - val_loss: 0.2364 - val_mape: 921492.1250\n",
      "Epoch 72/100\n",
      "403/403 [==============================] - 1s 3ms/step - loss: 0.2057 - mape: 1258697.8750 - val_loss: 0.2146 - val_mape: 935263.1875\n",
      "Epoch 73/100\n",
      "403/403 [==============================] - 1s 3ms/step - loss: 0.2060 - mape: 1224870.1250 - val_loss: 0.2169 - val_mape: 875679.3750\n",
      "Epoch 74/100\n",
      "403/403 [==============================] - 1s 3ms/step - loss: 0.2060 - mape: 1246744.7500 - val_loss: 0.2135 - val_mape: 780993.6875\n",
      "Epoch 75/100\n",
      "403/403 [==============================] - 1s 3ms/step - loss: 0.2048 - mape: 1259577.8750 - val_loss: 0.2169 - val_mape: 827713.0000\n",
      "Epoch 76/100\n",
      "403/403 [==============================] - 1s 3ms/step - loss: 0.2055 - mape: 1234823.8750 - val_loss: 0.2137 - val_mape: 888421.7500\n",
      "Epoch 77/100\n",
      "403/403 [==============================] - 1s 3ms/step - loss: 0.2057 - mape: 1231422.5000 - val_loss: 0.2237 - val_mape: 840730.5625\n",
      "Epoch 78/100\n",
      "403/403 [==============================] - 1s 3ms/step - loss: 0.2049 - mape: 1237153.7500 - val_loss: 0.2138 - val_mape: 894772.5000\n",
      "Epoch 79/100\n",
      "403/403 [==============================] - 1s 4ms/step - loss: 0.2046 - mape: 1256730.6250 - val_loss: 0.2206 - val_mape: 760820.7500\n",
      "Epoch 80/100\n",
      "403/403 [==============================] - 1s 3ms/step - loss: 0.2048 - mape: 1215685.5000 - val_loss: 0.2332 - val_mape: 790827.8125\n",
      "Epoch 81/100\n",
      "403/403 [==============================] - 1s 3ms/step - loss: 0.2045 - mape: 1240763.2500 - val_loss: 0.2137 - val_mape: 825780.3750\n",
      "Epoch 82/100\n",
      "403/403 [==============================] - 1s 3ms/step - loss: 0.2042 - mape: 1216017.5000 - val_loss: 0.2163 - val_mape: 820589.7500\n",
      "Epoch 83/100\n",
      "403/403 [==============================] - 1s 3ms/step - loss: 0.2040 - mape: 1248598.0000 - val_loss: 0.2181 - val_mape: 744806.3125\n",
      "Epoch 84/100\n",
      "403/403 [==============================] - 1s 3ms/step - loss: 0.2039 - mape: 1240952.2500 - val_loss: 0.2189 - val_mape: 781591.0000\n",
      "Epoch 85/100\n",
      "403/403 [==============================] - 1s 3ms/step - loss: 0.2037 - mape: 1221164.5000 - val_loss: 0.2137 - val_mape: 967473.0000\n",
      "Epoch 86/100\n",
      "403/403 [==============================] - 1s 3ms/step - loss: 0.2034 - mape: 1216506.1250 - val_loss: 0.2128 - val_mape: 958848.8125\n",
      "Epoch 87/100\n",
      "403/403 [==============================] - 1s 3ms/step - loss: 0.2038 - mape: 1247252.3750 - val_loss: 0.2119 - val_mape: 830899.3125\n",
      "Epoch 88/100\n",
      "403/403 [==============================] - 1s 3ms/step - loss: 0.2036 - mape: 1236528.6250 - val_loss: 0.2343 - val_mape: 946247.3125\n",
      "Epoch 89/100\n",
      "403/403 [==============================] - 1s 3ms/step - loss: 0.2029 - mape: 1262894.5000 - val_loss: 0.2160 - val_mape: 955054.9375\n",
      "Epoch 90/100\n",
      "403/403 [==============================] - 1s 3ms/step - loss: 0.2039 - mape: 1265689.2500 - val_loss: 0.2148 - val_mape: 860519.2500\n",
      "Epoch 91/100\n",
      "403/403 [==============================] - 1s 3ms/step - loss: 0.2037 - mape: 1246420.1250 - val_loss: 0.2116 - val_mape: 916817.5000\n",
      "Epoch 92/100\n",
      "403/403 [==============================] - 1s 3ms/step - loss: 0.2039 - mape: 1249180.3750 - val_loss: 0.2159 - val_mape: 863347.3750\n",
      "Epoch 93/100\n",
      "403/403 [==============================] - 1s 3ms/step - loss: 0.2031 - mape: 1224190.7500 - val_loss: 0.2124 - val_mape: 1012133.7500\n",
      "Epoch 94/100\n",
      "403/403 [==============================] - 1s 3ms/step - loss: 0.2028 - mape: 1232343.3750 - val_loss: 0.2123 - val_mape: 915914.2500\n",
      "Epoch 95/100\n",
      "403/403 [==============================] - 1s 3ms/step - loss: 0.2027 - mape: 1246269.3750 - val_loss: 0.2110 - val_mape: 835284.5000\n",
      "Epoch 96/100\n",
      "403/403 [==============================] - 1s 3ms/step - loss: 0.2028 - mape: 1226170.8750 - val_loss: 0.2111 - val_mape: 1009628.2500\n",
      "Epoch 97/100\n",
      "403/403 [==============================] - 1s 3ms/step - loss: 0.2021 - mape: 1226969.6250 - val_loss: 0.2267 - val_mape: 862470.2500\n",
      "Epoch 98/100\n",
      "403/403 [==============================] - 1s 3ms/step - loss: 0.2029 - mape: 1240366.2500 - val_loss: 0.2166 - val_mape: 752676.5625\n",
      "Epoch 99/100\n",
      "403/403 [==============================] - 1s 3ms/step - loss: 0.2024 - mape: 1229189.8750 - val_loss: 0.2079 - val_mape: 870480.4375\n",
      "Epoch 100/100\n",
      "403/403 [==============================] - 1s 3ms/step - loss: 0.2023 - mape: 1255182.3750 - val_loss: 0.2088 - val_mape: 908628.0000\n"
     ]
    }
   ],
   "source": [
    "# Full training of best model\n",
    "H = DNN.fit(x=x_train, y=y_train, batch_size=64, epochs=100, validation_split=0.1)"
   ]
  },
  {
   "cell_type": "code",
   "execution_count": 21,
   "metadata": {
    "colab": {
     "base_uri": "https://localhost:8080/",
     "height": 290
    },
    "id": "LYDG8I2N9IZN",
    "outputId": "cd82683a-e4da-41fa-809c-2ec192430645"
   },
   "outputs": [
    {
     "data": {
      "image/png": "[encoded data removed]",
      "text/plain": [
       "<Figure size 1440x288 with 2 Axes>"
      ]
     },
     "metadata": {
      "needs_background": "light"
     },
     "output_type": "display_data"
    }
   ],
   "source": [
    "# Plot loss\n",
    "plt.figure(figsize=(20, 4))\n",
    "plt.subplot(1, 2, 1)\n",
    "plt.plot(DNN.history.history['loss'], label='Training', linewidth=2)\n",
    "plt.plot(DNN.history.history['val_loss'], label='Validation', linewidth=2)\n",
    "plt.legend()\n",
    "plt.xlabel('Epoch')\n",
    "plt.ylabel('Loss (mse)')\n",
    "plt.grid()\n",
    "plt.subplot(1, 2, 2)\n",
    "plt.plot(DNN.history.history['mape'], label='Training', linewidth=2)\n",
    "plt.plot(DNN.history.history['val_mape'], label='Validation', linewidth=2)\n",
    "plt.legend()\n",
    "plt.xlabel('Epoch')\n",
    "plt.ylabel('MAPE')\n",
    "plt.grid()\n",
    "plt.show()"
   ]
  },
  {
   "cell_type": "code",
   "execution_count": 22,
   "metadata": {
    "colab": {
     "base_uri": "https://localhost:8080/"
    },
    "id": "kxp-aIKj9IZP",
    "outputId": "d041f408-b63b-4720-b5b3-00e95424b3bc"
   },
   "outputs": [
    {
     "name": "stdout",
     "output_type": "stream",
     "text": [
      "Test loss and MAPE: [0.21122857928276062, 1183173.0]\n"
     ]
    }
   ],
   "source": [
    "# Compute test loss\n",
    "loss_test = DNN.evaluate(x=x_test, y=y_test, verbose=False)\n",
    "print(\"Test loss and MAPE:\", loss_test)"
   ]
  },
  {
   "cell_type": "code",
   "execution_count": 23,
   "metadata": {
    "colab": {
     "base_uri": "https://localhost:8080/"
    },
    "id": "eJEi2uok9IZQ",
    "outputId": "26db3606-53aa-4386-f4f2-426f115704f8"
   },
   "outputs": [
    {
     "name": "stdout",
     "output_type": "stream",
     "text": [
      "100/100 [==============================] - 0s 1ms/step\n",
      "(3182, 2)\n"
     ]
    }
   ],
   "source": [
    "# Predict on test set\n",
    "y_test_hat = DNN.predict(x=x_test)\n",
    "print(y_test_hat.shape)"
   ]
  },
  {
   "cell_type": "code",
   "execution_count": 24,
   "metadata": {
    "colab": {
     "base_uri": "https://localhost:8080/",
     "height": 295
    },
    "id": "f_4_ldJB9IZQ",
    "outputId": "556874e6-f6f6-497e-e794-fbf7e2a40b6c"
   },
   "outputs": [
    {
     "data": {
      "image/png": "[encoded data removed]",
      "text/plain": [
       "<Figure size 432x288 with 1 Axes>"
      ]
     },
     "metadata": {
      "needs_background": "light"
     },
     "output_type": "display_data"
    }
   ],
   "source": [
    "# Plot y_test_hat\n",
    "indx = np.random.permutation(len(y_test))[:500]\n",
    "plt.scatter(y_test[indx, 0], y_test[indx, 1], c='b', label='y')\n",
    "plt.scatter(y_test_hat[indx, 0], y_test_hat[indx, 1], c='r', marker='+', label='y_h')\n",
    "\n",
    "plt.legend()\n",
    "plt.grid(True)\n",
    "plt.xlabel('PM2.5')\n",
    "plt.ylabel('NO2')\n",
    "plt.title('Test set and its predictions')\n",
    "plt.show()"
   ]
  },
  {
   "cell_type": "markdown",
   "metadata": {
    "id": "dfa1V1ugGNMw"
   },
   "source": [
    "# Part 4: save model to disk and load ti back"
   ]
  },
  {
   "cell_type": "code",
   "execution_count": 25,
   "metadata": {
    "id": "Dj1cG1L5GRf_"
   },
   "outputs": [],
   "source": [
    "# Save model to disk, then delete it\n",
    "DNN.save(\"my_DNN_model.h5\")\n",
    "\n",
    "del DNN"
   ]
  },
  {
   "cell_type": "code",
   "execution_count": 26,
   "metadata": {
    "colab": {
     "base_uri": "https://localhost:8080/"
    },
    "id": "tz95tvPvGamV",
    "outputId": "90213a02-47ce-48bb-d7b8-9fdc59caed2c"
   },
   "outputs": [
    {
     "name": "stdout",
     "output_type": "stream",
     "text": [
      "100/100 [==============================] - 0s 1ms/step\n",
      "(3182, 2)\n"
     ]
    }
   ],
   "source": [
    "# Load model back into memory, and use it for prediction\n",
    "from tensorflow.keras.models import load_model\n",
    "DNN = load_model(\"my_DNN_model.h5\")\n",
    "\n",
    "y_test_hat = DNN.predict(x=x_test)\n",
    "print(y_test_hat.shape)"
   ]
  },
  {
   "cell_type": "code",
   "execution_count": null,
   "metadata": {
    "id": "8r52F4EqgDR4"
   },
   "outputs": [],
   "source": []
  }
 ],
 "metadata": {
  "accelerator": "GPU",
  "colab": {
   "collapsed_sections": [
    "oN6aBWNOWrY7",
    "7AnH6VY-W09n",
    "Xx9N-n_K4_3k",
    "Flg_pGZD5_0F"
   ],
   "provenance": []
  },
  "gpuClass": "standard",
  "kernelspec": {
   "display_name": "Python 3 (ipykernel)",
   "language": "python",
   "name": "python3"
  },
  "language_info": {
   "codemirror_mode": {
    "name": "ipython",
    "version": 3
   },
   "file_extension": ".py",
   "mimetype": "text/x-python",
   "name": "python",
   "nbconvert_exporter": "python",
   "pygments_lexer": "ipython3",
   "version": "3.10.12"
  }
 },
 "nbformat": 4,
 "nbformat_minor": 1
}
